{
 "cells": [
  {
   "cell_type": "markdown",
   "id": "ce43e10e",
   "metadata": {},
   "source": [
    "## LIST"
   ]
  },
  {
   "cell_type": "markdown",
   "id": "fb44d419",
   "metadata": {},
   "source": [
    "###  Creating List "
   ]
  },
  {
   "cell_type": "code",
   "execution_count": 12,
   "id": "2072d42a",
   "metadata": {},
   "outputs": [
    {
     "name": "stdout",
     "output_type": "stream",
     "text": [
      "[1, 2, 3, 4]\n"
     ]
    }
   ],
   "source": [
    "#create list with list Function to convert othe robjets into List\n",
    "myset={1,2,3,4}\n",
    "mylist1=list(myset)\n",
    "print(mylist1)"
   ]
  },
  {
   "cell_type": "code",
   "execution_count": 19,
   "id": "d8547230",
   "metadata": {},
   "outputs": [
    {
     "name": "stdout",
     "output_type": "stream",
     "text": [
      "[1, 3, 5, 7, 9, 11, 13, 15, 17, 19]\n"
     ]
    }
   ],
   "source": [
    "#create a list with list function using range of values\n",
    "mylist=list(range(1,20,2))\n",
    "print(mylist)"
   ]
  },
  {
   "cell_type": "code",
   "execution_count": 71,
   "id": "27459ff8",
   "metadata": {},
   "outputs": [
    {
     "name": "stdout",
     "output_type": "stream",
     "text": [
      "enter a string:my name is, Arnab Bhowmik, and I am very Alone\n",
      "['my name is', ' Arnab Bhowmik', ' and I am very Alone']\n"
     ]
    }
   ],
   "source": [
    "#create list from string split function\n",
    "mystring = input(\"enter a string:\")\n",
    "mylist=mystring.split(',')\n",
    "print(mylist)"
   ]
  },
  {
   "cell_type": "code",
   "execution_count": 30,
   "id": "4bdf1d42",
   "metadata": {},
   "outputs": [
    {
     "name": "stdout",
     "output_type": "stream",
     "text": [
      "enter a Srting:my name is, Arnab Bhowwmik, and I am very Alone\n",
      "['m', 'y', ' ', 'n', 'a', 'm', 'e', ' ', 'i', 's', ',', ' ', 'A', 'r', 'n', 'a', 'b', ' ', 'B', 'h', 'o', 'w', 'w', 'm', 'i', 'k', ',', ' ', 'a', 'n', 'd', ' ', 'I', ' ', 'a', 'm', ' ', 'v', 'e', 'r', 'y', ' ', 'A', 'l', 'o', 'n', 'e']\n"
     ]
    }
   ],
   "source": [
    "#create list from string \n",
    "mystring = input(\"enter a Srting:\")\n",
    "mylist=list(mystring)\n",
    "print(mylist)"
   ]
  },
  {
   "cell_type": "markdown",
   "id": "4fc55fc9",
   "metadata": {},
   "source": [
    "# DO NOT RUN NOW"
   ]
  },
  {
   "cell_type": "code",
   "execution_count": null,
   "id": "cf58a37d",
   "metadata": {},
   "outputs": [],
   "source": [
    "#CREATE A BLANK mylist\n",
    "mylist = []\n",
    "print(mylist)"
   ]
  },
  {
   "cell_type": "code",
   "execution_count": null,
   "id": "baf5ccee",
   "metadata": {},
   "outputs": [],
   "source": [
    "#CREATE A mylist with known elements\n",
    "mylist = [1,\"A\",'B',[1,2]]\n",
    "print(mylist)\n",
    "print(type(mylist))"
   ]
  },
  {
   "cell_type": "code",
   "execution_count": null,
   "id": "90f98ad0",
   "metadata": {},
   "outputs": [],
   "source": [
    "#CREATE A mylist with dynamic input # as String as eval was not used\n",
    "mylist = input(\"enter a mylist:\")\n",
    "print(mylist)\n",
    "print(type(mylist))"
   ]
  },
  {
   "cell_type": "code",
   "execution_count": null,
   "id": "464395b9",
   "metadata": {},
   "outputs": [],
   "source": [
    "#CREATE A mylist with dynamic input with Eval\n",
    "mylist = eval(input(\"enter a mylist:\"))\n",
    "print(mylist)\n",
    "print(type(mylist))"
   ]
  },
  {
   "cell_type": "markdown",
   "id": "34845702",
   "metadata": {},
   "source": [
    "## Traversing a list"
   ]
  },
  {
   "cell_type": "code",
   "execution_count": 20,
   "id": "53517423",
   "metadata": {},
   "outputs": [
    {
     "name": "stdout",
     "output_type": "stream",
     "text": [
      "[1, 3, 5, 7, 9, 11, 13, 15, 17, 19]\n"
     ]
    }
   ],
   "source": [
    "mylist2=list(range(1,20,2))\n",
    "print(mylist2)"
   ]
  },
  {
   "cell_type": "code",
   "execution_count": 23,
   "id": "869479a7",
   "metadata": {},
   "outputs": [
    {
     "name": "stdout",
     "output_type": "stream",
     "text": [
      "1\n",
      "3\n",
      "5\n",
      "7\n",
      "9\n",
      "11\n",
      "13\n",
      "15\n",
      "17\n",
      "19\n"
     ]
    }
   ],
   "source": [
    "for l in mylist2:\n",
    "    print(l)"
   ]
  },
  {
   "cell_type": "code",
   "execution_count": 45,
   "id": "78d78560",
   "metadata": {},
   "outputs": [
    {
     "name": "stdout",
     "output_type": "stream",
     "text": [
      "10\n",
      "value 1 present in positive index 0 and negative index 10\n",
      "value 3 present in positive index 1 and negative index 9\n",
      "value 5 present in positive index 2 and negative index 8\n",
      "value 7 present in positive index 3 and negative index 7\n",
      "value 9 present in positive index 4 and negative index 6\n",
      "value 11 present in positive index 5 and negative index 5\n",
      "value 13 present in positive index 6 and negative index 4\n",
      "value 15 present in positive index 7 and negative index 3\n",
      "value 17 present in positive index 8 and negative index 2\n",
      "value 19 present in positive index 9 and negative index 1\n"
     ]
    }
   ],
   "source": [
    "listlen =len(mylist2)\n",
    "print(listlen)\n",
    "l=0\n",
    "while l < listlen:\n",
    "    print(\"value {} present in positive index {} and negative index {}\".format(mylist2[l],l,(listlen-l)))\n",
    "    l= l+1    "
   ]
  },
  {
   "cell_type": "markdown",
   "id": "08055e9d",
   "metadata": {},
   "source": [
    "## Access List using index"
   ]
  },
  {
   "cell_type": "code",
   "execution_count": 46,
   "id": "5ec88ca1",
   "metadata": {},
   "outputs": [
    {
     "name": "stdout",
     "output_type": "stream",
     "text": [
      "[1, 3, 5, 7, 9, 11, 13, 15, 17, 19]\n"
     ]
    }
   ],
   "source": [
    "print(mylist2)"
   ]
  },
  {
   "cell_type": "code",
   "execution_count": 53,
   "id": "4d2df2fc",
   "metadata": {},
   "outputs": [
    {
     "name": "stdout",
     "output_type": "stream",
     "text": [
      "11\n",
      "17\n"
     ]
    }
   ],
   "source": [
    "print(mylist2[5])\n",
    "print(mylist2[-2])"
   ]
  },
  {
   "cell_type": "code",
   "execution_count": 50,
   "id": "03e9b963",
   "metadata": {},
   "outputs": [
    {
     "data": {
      "text/plain": [
       "1"
      ]
     },
     "execution_count": 50,
     "metadata": {},
     "output_type": "execute_result"
    }
   ],
   "source": [
    "#grab first element\n",
    "mylist2[0]"
   ]
  },
  {
   "cell_type": "code",
   "execution_count": 52,
   "id": "69d24d21",
   "metadata": {},
   "outputs": [
    {
     "data": {
      "text/plain": [
       "17"
      ]
     },
     "execution_count": 52,
     "metadata": {},
     "output_type": "execute_result"
    }
   ],
   "source": [
    "#grab last element\n",
    "mylist2[-1]"
   ]
  },
  {
   "cell_type": "markdown",
   "id": "b29df1b9",
   "metadata": {},
   "source": [
    "# Slicing of List"
   ]
  },
  {
   "cell_type": "code",
   "execution_count": 55,
   "id": "5999cb8a",
   "metadata": {},
   "outputs": [
    {
     "name": "stdout",
     "output_type": "stream",
     "text": [
      "[1, 3, 5, 7, 9, 11, 13, 15, 17, 19]\n"
     ]
    }
   ],
   "source": [
    "print(mylist2)"
   ]
  },
  {
   "cell_type": "code",
   "execution_count": 59,
   "id": "770008c5",
   "metadata": {},
   "outputs": [
    {
     "name": "stdout",
     "output_type": "stream",
     "text": [
      "[5, 7, 9]\n"
     ]
    }
   ],
   "source": [
    "print(mylist2[2:5])"
   ]
  },
  {
   "cell_type": "code",
   "execution_count": 64,
   "id": "14b2d1e2",
   "metadata": {},
   "outputs": [
    {
     "name": "stdout",
     "output_type": "stream",
     "text": [
      "[5, 11]\n"
     ]
    }
   ],
   "source": [
    "print(mylist2[2:7:3]) # step should be more than 0, default is 1"
   ]
  },
  {
   "cell_type": "code",
   "execution_count": 65,
   "id": "aa459727",
   "metadata": {},
   "outputs": [
    {
     "name": "stdout",
     "output_type": "stream",
     "text": [
      "[1, 3, 5, 7, 9]\n"
     ]
    }
   ],
   "source": [
    "print(mylist2[:5])"
   ]
  },
  {
   "cell_type": "code",
   "execution_count": 66,
   "id": "167d0a75",
   "metadata": {},
   "outputs": [
    {
     "name": "stdout",
     "output_type": "stream",
     "text": [
      "[7, 9, 11, 13, 15, 17, 19]\n"
     ]
    }
   ],
   "source": [
    "print(mylist2[3:])"
   ]
  },
  {
   "cell_type": "code",
   "execution_count": 67,
   "id": "8bcaa235",
   "metadata": {},
   "outputs": [
    {
     "name": "stdout",
     "output_type": "stream",
     "text": [
      "[1, 3, 5, 7, 9, 11, 13, 15, 17, 19]\n"
     ]
    }
   ],
   "source": [
    "print(mylist2[:])"
   ]
  },
  {
   "cell_type": "code",
   "execution_count": 68,
   "id": "c0c4f996",
   "metadata": {},
   "outputs": [
    {
     "name": "stdout",
     "output_type": "stream",
     "text": [
      "[1, 5, 9, 13, 17]\n"
     ]
    }
   ],
   "source": [
    "print(mylist2[::2])"
   ]
  },
  {
   "cell_type": "markdown",
   "id": "9c4e1714",
   "metadata": {},
   "source": [
    "## Nested List"
   ]
  },
  {
   "cell_type": "code",
   "execution_count": 72,
   "id": "4c05d273",
   "metadata": {},
   "outputs": [
    {
     "name": "stdout",
     "output_type": "stream",
     "text": [
      "['my name is', ' Arnab Bhowmik', ' and I am very Alone']\n"
     ]
    }
   ],
   "source": [
    "print(mylist)"
   ]
  },
  {
   "cell_type": "code",
   "execution_count": 92,
   "id": "a58eb4fb",
   "metadata": {},
   "outputs": [
    {
     "name": "stdout",
     "output_type": "stream",
     "text": [
      "['my', 'name', 'is']\n",
      "[['my', 'name', 'is']]\n",
      "['Arnab', 'Bhowmik']\n",
      "[['my', 'name', 'is'], ['Arnab', 'Bhowmik']]\n",
      "['and', 'I', 'am', 'very', 'Alone']\n",
      "[['my', 'name', 'is'], ['Arnab', 'Bhowmik'], ['and', 'I', 'am', 'very', 'Alone']]\n"
     ]
    }
   ],
   "source": [
    "mynestedlist=[]\n",
    "for i in mylist:\n",
    "    mylist1 = list(i.split())\n",
    "    mynestedlist.append(mylist1)\n",
    "    print(mylist1)\n",
    "    print(mynestedlist)\n",
    "    "
   ]
  },
  {
   "cell_type": "code",
   "execution_count": 93,
   "id": "43aec1c9",
   "metadata": {},
   "outputs": [
    {
     "name": "stdout",
     "output_type": "stream",
     "text": [
      "[['my', 'name', 'is'], ['Arnab', 'Bhowmik'], ['and', 'I', 'am', 'very', 'Alone']]\n"
     ]
    }
   ],
   "source": [
    "  print(mynestedlist)"
   ]
  },
  {
   "cell_type": "code",
   "execution_count": 97,
   "id": "c96d8f24",
   "metadata": {},
   "outputs": [
    {
     "data": {
      "text/plain": [
       "'Alone'"
      ]
     },
     "execution_count": 97,
     "metadata": {},
     "output_type": "execute_result"
    }
   ],
   "source": [
    "mynestedlist[2][-1]"
   ]
  },
  {
   "cell_type": "markdown",
   "id": "12fed034",
   "metadata": {},
   "source": [
    "## List Functions"
   ]
  },
  {
   "cell_type": "code",
   "execution_count": 138,
   "id": "68528b9e",
   "metadata": {},
   "outputs": [
    {
     "name": "stdout",
     "output_type": "stream",
     "text": [
      "[1, 'A', 'A', 'B', [1, 2]]\n",
      "<class 'list'>\n"
     ]
    }
   ],
   "source": [
    "mylist = [1,\"A\",'A','B',[1,2]]\n",
    "print(mylist)\n",
    "print(type(mylist))"
   ]
  },
  {
   "cell_type": "code",
   "execution_count": 139,
   "id": "2206cac8",
   "metadata": {},
   "outputs": [
    {
     "data": {
      "text/plain": [
       "5"
      ]
     },
     "execution_count": 139,
     "metadata": {},
     "output_type": "execute_result"
    }
   ],
   "source": [
    "len(mylist)"
   ]
  },
  {
   "cell_type": "code",
   "execution_count": 140,
   "id": "3d86e1ec",
   "metadata": {},
   "outputs": [
    {
     "data": {
      "text/plain": [
       "2"
      ]
     },
     "execution_count": 140,
     "metadata": {},
     "output_type": "execute_result"
    }
   ],
   "source": [
    "mylist.count('A')"
   ]
  },
  {
   "cell_type": "code",
   "execution_count": 141,
   "id": "93fd420f",
   "metadata": {},
   "outputs": [
    {
     "data": {
      "text/plain": [
       "0"
      ]
     },
     "execution_count": 141,
     "metadata": {},
     "output_type": "execute_result"
    }
   ],
   "source": [
    "mylist.count('2')"
   ]
  },
  {
   "cell_type": "code",
   "execution_count": 111,
   "id": "b96f8588",
   "metadata": {},
   "outputs": [
    {
     "data": {
      "text/plain": [
       "1"
      ]
     },
     "execution_count": 111,
     "metadata": {},
     "output_type": "execute_result"
    }
   ],
   "source": [
    "mylist.count('A')"
   ]
  },
  {
   "cell_type": "code",
   "execution_count": 113,
   "id": "73f61795",
   "metadata": {},
   "outputs": [
    {
     "data": {
      "text/plain": [
       "1"
      ]
     },
     "execution_count": 113,
     "metadata": {},
     "output_type": "execute_result"
    }
   ],
   "source": [
    "mylist.count([1,2])"
   ]
  },
  {
   "cell_type": "code",
   "execution_count": 118,
   "id": "9188ff94",
   "metadata": {},
   "outputs": [
    {
     "name": "stdout",
     "output_type": "stream",
     "text": [
      "2\n"
     ]
    }
   ],
   "source": [
    "print(mylist.index('B')) #this returns indexor position of provided element"
   ]
  },
  {
   "cell_type": "code",
   "execution_count": 142,
   "id": "4b3f587b",
   "metadata": {},
   "outputs": [
    {
     "name": "stdout",
     "output_type": "stream",
     "text": [
      "[1, 'A', 'A', 'B', [1, 2]]\n"
     ]
    }
   ],
   "source": [
    "print(mylist)"
   ]
  },
  {
   "cell_type": "code",
   "execution_count": 143,
   "id": "61d6e020",
   "metadata": {},
   "outputs": [],
   "source": [
    "mylist.append(4) # apend will always enter at last"
   ]
  },
  {
   "cell_type": "code",
   "execution_count": 144,
   "id": "3080adb6",
   "metadata": {},
   "outputs": [
    {
     "name": "stdout",
     "output_type": "stream",
     "text": [
      "[1, 'A', 'A', 'B', [1, 2], 4]\n"
     ]
    }
   ],
   "source": [
    "print(mylist)"
   ]
  },
  {
   "cell_type": "code",
   "execution_count": 145,
   "id": "3753d99e",
   "metadata": {},
   "outputs": [],
   "source": [
    "mylist.insert(2,4) # using insert function we can sprcify position where we want to insert # always need two argument"
   ]
  },
  {
   "cell_type": "code",
   "execution_count": 146,
   "id": "abc88e8d",
   "metadata": {},
   "outputs": [
    {
     "name": "stdout",
     "output_type": "stream",
     "text": [
      "[1, 'A', 4, 'A', 'B', [1, 2], 4]\n"
     ]
    }
   ],
   "source": [
    "print(mylist)"
   ]
  },
  {
   "cell_type": "code",
   "execution_count": 147,
   "id": "803af8fd",
   "metadata": {},
   "outputs": [],
   "source": [
    "#duplicate is allowed in List"
   ]
  },
  {
   "cell_type": "code",
   "execution_count": 148,
   "id": "2ff70c8c",
   "metadata": {},
   "outputs": [
    {
     "data": {
      "text/plain": [
       "7"
      ]
     },
     "execution_count": 148,
     "metadata": {},
     "output_type": "execute_result"
    }
   ],
   "source": [
    "len(mylist)"
   ]
  },
  {
   "cell_type": "code",
   "execution_count": 149,
   "id": "32be78e9",
   "metadata": {},
   "outputs": [
    {
     "name": "stdout",
     "output_type": "stream",
     "text": [
      "[1, 'A', 4, 'A', 'B', [1, 2], 4]\n"
     ]
    }
   ],
   "source": [
    "print(mylist)"
   ]
  },
  {
   "cell_type": "code",
   "execution_count": 150,
   "id": "51795d8e",
   "metadata": {},
   "outputs": [
    {
     "name": "stdout",
     "output_type": "stream",
     "text": [
      "[1, 'A', 4, 'A', 'B', [1, 2], 8, 4]\n"
     ]
    }
   ],
   "source": [
    "mylist.insert(-1,8)\n",
    "print(mylist)"
   ]
  },
  {
   "cell_type": "markdown",
   "id": "517e4055",
   "metadata": {},
   "source": [
    "#### If the specified index is greater than max index then element will be inserted at last position. If the specified index is smaller than min index then element will be inserted at first position."
   ]
  },
  {
   "cell_type": "code",
   "execution_count": 151,
   "id": "e9e02950",
   "metadata": {},
   "outputs": [
    {
     "name": "stdout",
     "output_type": "stream",
     "text": [
      "['X', 1, 'A', 4, 'A', 'B', [1, 2], 8, 4]\n"
     ]
    }
   ],
   "source": [
    "mylist.insert(-20,'X')\n",
    "print(mylist)"
   ]
  },
  {
   "cell_type": "code",
   "execution_count": 152,
   "id": "e4adcc8b",
   "metadata": {},
   "outputs": [
    {
     "name": "stdout",
     "output_type": "stream",
     "text": [
      "['X', 1, 'A', 4, 'A', 'B', [1, 2], 8, 4, 'Y']\n"
     ]
    }
   ],
   "source": [
    "mylist.insert(20,'Y')\n",
    "print(mylist)"
   ]
  },
  {
   "cell_type": "code",
   "execution_count": 154,
   "id": "c8ff1a82",
   "metadata": {},
   "outputs": [
    {
     "name": "stdout",
     "output_type": "stream",
     "text": [
      "[['my', 'name', 'is'], ['Arnab', 'Bhowmik'], ['and', 'I', 'am', 'very', 'Alone']]\n"
     ]
    }
   ],
   "source": [
    "print(mynestedlist)"
   ]
  },
  {
   "cell_type": "code",
   "execution_count": 156,
   "id": "33f33a39",
   "metadata": {},
   "outputs": [
    {
     "name": "stdout",
     "output_type": "stream",
     "text": [
      "[['my', 'name', 'is'], ['Arnab', 'Bhowmik'], ['and', 'I', 'am', 'very', 'Alone'], 'X', 1, 'A', 4, 'A', 'B', [1, 2], 8, 4, 'Y', 'X', 1, 'A', 4, 'A', 'B', [1, 2], 8, 4, 'Y']\n"
     ]
    }
   ],
   "source": [
    "mynestedlist.extend(mylist) \n",
    "print(mynestedlist)"
   ]
  },
  {
   "cell_type": "code",
   "execution_count": 162,
   "id": "9e7b3909",
   "metadata": {},
   "outputs": [
    {
     "ename": "TypeError",
     "evalue": "'int' object is not iterable",
     "output_type": "error",
     "traceback": [
      "\u001b[1;31m---------------------------------------------------------------------------\u001b[0m",
      "\u001b[1;31mTypeError\u001b[0m                                 Traceback (most recent call last)",
      "\u001b[1;32m<ipython-input-162-3862ecb718d9>\u001b[0m in \u001b[0;36m<module>\u001b[1;34m\u001b[0m\n\u001b[1;32m----> 1\u001b[1;33m \u001b[0mmynestedlist\u001b[0m\u001b[1;33m.\u001b[0m\u001b[0mextend\u001b[0m\u001b[1;33m(\u001b[0m\u001b[1;36m99\u001b[0m\u001b[1;33m)\u001b[0m\u001b[1;33m\u001b[0m\u001b[1;33m\u001b[0m\u001b[0m\n\u001b[0m",
      "\u001b[1;31mTypeError\u001b[0m: 'int' object is not iterable"
     ]
    }
   ],
   "source": [
    "mynestedlist.extend(99) "
   ]
  },
  {
   "cell_type": "code",
   "execution_count": 165,
   "id": "c61a5ede",
   "metadata": {},
   "outputs": [],
   "source": [
    "mynestedlist.extend('99') "
   ]
  },
  {
   "cell_type": "code",
   "execution_count": 167,
   "id": "a0eb2291",
   "metadata": {},
   "outputs": [],
   "source": [
    "mynestedlist.extend('W') "
   ]
  },
  {
   "cell_type": "code",
   "execution_count": 169,
   "id": "f863efb5",
   "metadata": {},
   "outputs": [],
   "source": [
    "mynestedlist.extend('JOLLY') "
   ]
  },
  {
   "cell_type": "code",
   "execution_count": 180,
   "id": "2a78102c",
   "metadata": {},
   "outputs": [
    {
     "name": "stdout",
     "output_type": "stream",
     "text": [
      "[['my', 'name', 'is'], ['Arnab', 'Bhowmik'], ['and', 'I', 'am', 'very', 'Alone'], 'X', 1, 4, 'A', 'B', [1, 2], 8, 4, 'Y', 'X', 1, 'A', 4, 'A', 'B', [1, 2], 8, 4, 'Y', 1, 2, 'Z', '9', '9', 'W', 'O', 'L', 'L']\n"
     ]
    }
   ],
   "source": [
    "print(mynestedlist)"
   ]
  },
  {
   "cell_type": "code",
   "execution_count": 236,
   "id": "77bd5200",
   "metadata": {},
   "outputs": [],
   "source": [
    "mylist2.clear()"
   ]
  },
  {
   "cell_type": "code",
   "execution_count": 237,
   "id": "37fd93f3",
   "metadata": {},
   "outputs": [
    {
     "name": "stdout",
     "output_type": "stream",
     "text": [
      "[]\n"
     ]
    }
   ],
   "source": [
    "print(mylist2)"
   ]
  },
  {
   "cell_type": "code",
   "execution_count": 238,
   "id": "7e3017a4",
   "metadata": {},
   "outputs": [
    {
     "name": "stdout",
     "output_type": "stream",
     "text": [
      "2809001950208\n"
     ]
    }
   ],
   "source": [
    "print(id(mylist2))"
   ]
  },
  {
   "cell_type": "code",
   "execution_count": 181,
   "id": "0981f038",
   "metadata": {},
   "outputs": [],
   "source": [
    "mynestedlist.remove('A') \n",
    "#We need to pass the element we want to remove\n",
    "#this will remove only the first occurance of given element \n",
    "#if element not present then it will give value error"
   ]
  },
  {
   "cell_type": "code",
   "execution_count": 182,
   "id": "d9bee9e2",
   "metadata": {},
   "outputs": [
    {
     "name": "stdout",
     "output_type": "stream",
     "text": [
      "[['my', 'name', 'is'], ['Arnab', 'Bhowmik'], ['and', 'I', 'am', 'very', 'Alone'], 'X', 1, 4, 'B', [1, 2], 8, 4, 'Y', 'X', 1, 'A', 4, 'A', 'B', [1, 2], 8, 4, 'Y', 1, 2, 'Z', '9', '9', 'W', 'O', 'L', 'L']\n"
     ]
    }
   ],
   "source": [
    "print(mynestedlist) "
   ]
  },
  {
   "cell_type": "code",
   "execution_count": 178,
   "id": "9d1d21a4",
   "metadata": {},
   "outputs": [
    {
     "data": {
      "text/plain": [
       "'Y'"
      ]
     },
     "execution_count": 178,
     "metadata": {},
     "output_type": "execute_result"
    }
   ],
   "source": [
    "mynestedlist.pop()\n",
    "# this will pop out last element and return the same"
   ]
  },
  {
   "cell_type": "code",
   "execution_count": 179,
   "id": "4e997b66",
   "metadata": {},
   "outputs": [
    {
     "name": "stdout",
     "output_type": "stream",
     "text": [
      "[['my', 'name', 'is'], ['Arnab', 'Bhowmik'], ['and', 'I', 'am', 'very', 'Alone'], 'X', 1, 4, 'A', 'B', [1, 2], 8, 4, 'Y', 'X', 1, 'A', 4, 'A', 'B', [1, 2], 8, 4, 'Y', 1, 2, 'Z', '9', '9', 'W', 'O', 'L', 'L']\n"
     ]
    }
   ],
   "source": [
    "print(mynestedlist)"
   ]
  },
  {
   "cell_type": "code",
   "execution_count": 183,
   "id": "ce27f722",
   "metadata": {},
   "outputs": [
    {
     "data": {
      "text/plain": [
       "'Y'"
      ]
     },
     "execution_count": 183,
     "metadata": {},
     "output_type": "execute_result"
    }
   ],
   "source": [
    "mynestedlist.pop(10)\n",
    "# we need to pass index we want the value\n",
    "# this will pop out element present in given index and return the same"
   ]
  },
  {
   "cell_type": "code",
   "execution_count": 184,
   "id": "cc9369ee",
   "metadata": {},
   "outputs": [
    {
     "name": "stdout",
     "output_type": "stream",
     "text": [
      "[['my', 'name', 'is'], ['Arnab', 'Bhowmik'], ['and', 'I', 'am', 'very', 'Alone'], 'X', 1, 4, 'B', [1, 2], 8, 4, 'X', 1, 'A', 4, 'A', 'B', [1, 2], 8, 4, 'Y', 1, 2, 'Z', '9', '9', 'W', 'O', 'L', 'L']\n"
     ]
    }
   ],
   "source": [
    "print(mynestedlist)"
   ]
  },
  {
   "cell_type": "code",
   "execution_count": 188,
   "id": "8702fdb7",
   "metadata": {},
   "outputs": [
    {
     "name": "stdout",
     "output_type": "stream",
     "text": [
      "[1, 'A', 'A', 'B', 23]\n",
      "<class 'list'>\n"
     ]
    }
   ],
   "source": [
    "mylist = [1,\"A\",'A','B',23]\n",
    "print(mylist)\n",
    "print(type(mylist))"
   ]
  },
  {
   "cell_type": "code",
   "execution_count": 190,
   "id": "6b1d4aa7",
   "metadata": {},
   "outputs": [],
   "source": [
    "mylist.reverse()"
   ]
  },
  {
   "cell_type": "code",
   "execution_count": 191,
   "id": "4f613816",
   "metadata": {},
   "outputs": [
    {
     "name": "stdout",
     "output_type": "stream",
     "text": [
      "[23, 'B', 'A', 'A', 1]\n"
     ]
    }
   ],
   "source": [
    "print(mylist)"
   ]
  },
  {
   "cell_type": "code",
   "execution_count": 192,
   "id": "56761b3d",
   "metadata": {},
   "outputs": [
    {
     "ename": "TypeError",
     "evalue": "'<' not supported between instances of 'str' and 'int'",
     "output_type": "error",
     "traceback": [
      "\u001b[1;31m---------------------------------------------------------------------------\u001b[0m",
      "\u001b[1;31mTypeError\u001b[0m                                 Traceback (most recent call last)",
      "\u001b[1;32m<ipython-input-192-9eac85d13eba>\u001b[0m in \u001b[0;36m<module>\u001b[1;34m\u001b[0m\n\u001b[1;32m----> 1\u001b[1;33m \u001b[0mmylist\u001b[0m\u001b[1;33m.\u001b[0m\u001b[0msort\u001b[0m\u001b[1;33m(\u001b[0m\u001b[1;33m)\u001b[0m\u001b[1;33m\u001b[0m\u001b[1;33m\u001b[0m\u001b[0m\n\u001b[0m\u001b[0;32m      2\u001b[0m \u001b[0mprint\u001b[0m\u001b[1;33m(\u001b[0m\u001b[0mmylist\u001b[0m\u001b[1;33m)\u001b[0m\u001b[1;33m\u001b[0m\u001b[1;33m\u001b[0m\u001b[0m\n",
      "\u001b[1;31mTypeError\u001b[0m: '<' not supported between instances of 'str' and 'int'"
     ]
    }
   ],
   "source": [
    "mylist.sort()\n",
    "print(mylist)\n",
    "#To use sort() function, compulsory list should contain only homogeneous elements. Otherwise we will get TypeError"
   ]
  },
  {
   "cell_type": "code",
   "execution_count": 193,
   "id": "d51bda2c",
   "metadata": {},
   "outputs": [
    {
     "name": "stdout",
     "output_type": "stream",
     "text": [
      "[1, 3, 5, 7, 9, 11, 13, 15, 17, 19]\n"
     ]
    }
   ],
   "source": [
    "mylist_of_num=list(range(1,20,2))\n",
    "print(mylist_of_num)"
   ]
  },
  {
   "cell_type": "code",
   "execution_count": 195,
   "id": "32eb2dcd",
   "metadata": {},
   "outputs": [
    {
     "name": "stdout",
     "output_type": "stream",
     "text": [
      "[1, 3, 5, 7, 100, 11, 13, 15, 17, 19]\n"
     ]
    }
   ],
   "source": [
    "mylist_of_num[4]=100\n",
    "print(mylist_of_num)"
   ]
  },
  {
   "cell_type": "code",
   "execution_count": 196,
   "id": "d85c7182",
   "metadata": {},
   "outputs": [
    {
     "name": "stdout",
     "output_type": "stream",
     "text": [
      "[1, 3, 5, 7, 11, 13, 15, 17, 19, 100]\n"
     ]
    }
   ],
   "source": [
    "mylist_of_num.sort()\n",
    "print(mylist_of_num)"
   ]
  },
  {
   "cell_type": "code",
   "execution_count": 197,
   "id": "6d1c9efe",
   "metadata": {},
   "outputs": [
    {
     "name": "stdout",
     "output_type": "stream",
     "text": [
      "[100, 19, 17, 15, 13, 11, 7, 5, 3, 1]\n"
     ]
    }
   ],
   "source": [
    "mylist_of_num.sort(reverse = True)\n",
    "print(mylist_of_num)"
   ]
  },
  {
   "cell_type": "markdown",
   "id": "c2d76460",
   "metadata": {},
   "source": [
    "## Aliasing"
   ]
  },
  {
   "cell_type": "code",
   "execution_count": 198,
   "id": "9ac9e1b8",
   "metadata": {},
   "outputs": [
    {
     "name": "stdout",
     "output_type": "stream",
     "text": [
      "[100, 19, 17, 15, 13, 11, 7, 5, 3, 1]\n"
     ]
    }
   ],
   "source": [
    "print(mylist_of_num)"
   ]
  },
  {
   "cell_type": "code",
   "execution_count": 199,
   "id": "59dc5101",
   "metadata": {},
   "outputs": [],
   "source": [
    "my_newlist = mylist_of_num"
   ]
  },
  {
   "cell_type": "code",
   "execution_count": 200,
   "id": "7e1cb1e9",
   "metadata": {},
   "outputs": [
    {
     "name": "stdout",
     "output_type": "stream",
     "text": [
      "[100, 19, 17, 15, 13, 11, 7, 5, 3, 1]\n",
      "[100, 19, 17, 15, 13, 11, 7, 5, 3, 1]\n"
     ]
    }
   ],
   "source": [
    "print(mylist_of_num)\n",
    "print(my_newlist)"
   ]
  },
  {
   "cell_type": "code",
   "execution_count": 201,
   "id": "4a8c6536",
   "metadata": {},
   "outputs": [
    {
     "name": "stdout",
     "output_type": "stream",
     "text": [
      "2809002363584\n",
      "2809002363584\n"
     ]
    }
   ],
   "source": [
    "print(id(mylist_of_num))\n",
    "print(id(my_newlist))"
   ]
  },
  {
   "cell_type": "code",
   "execution_count": 202,
   "id": "7af7e898",
   "metadata": {},
   "outputs": [],
   "source": [
    "my_newlist[6] =300"
   ]
  },
  {
   "cell_type": "code",
   "execution_count": 203,
   "id": "361b2d03",
   "metadata": {},
   "outputs": [
    {
     "name": "stdout",
     "output_type": "stream",
     "text": [
      "[100, 19, 17, 15, 13, 11, 300, 5, 3, 1]\n",
      "[100, 19, 17, 15, 13, 11, 300, 5, 3, 1]\n"
     ]
    }
   ],
   "source": [
    "print(mylist_of_num)\n",
    "print(my_newlist)"
   ]
  },
  {
   "cell_type": "markdown",
   "id": "03568f37",
   "metadata": {},
   "source": [
    "## Cloning "
   ]
  },
  {
   "cell_type": "code",
   "execution_count": 204,
   "id": "7658cef2",
   "metadata": {},
   "outputs": [
    {
     "name": "stdout",
     "output_type": "stream",
     "text": [
      "[100, 19, 17, 15, 13, 11, 300, 5, 3, 1]\n"
     ]
    }
   ],
   "source": [
    "print(mylist_of_num)"
   ]
  },
  {
   "cell_type": "code",
   "execution_count": 208,
   "id": "fadda7c9",
   "metadata": {},
   "outputs": [],
   "source": [
    "my_newlist_num1 = mylist_of_num.copy()"
   ]
  },
  {
   "cell_type": "code",
   "execution_count": 209,
   "id": "985837aa",
   "metadata": {},
   "outputs": [
    {
     "name": "stdout",
     "output_type": "stream",
     "text": [
      "[100, 19, 17, 15, 13, 11, 300, 5, 3, 1]\n",
      "[100, 19, 17, 15, 13, 11, 300, 5, 3, 1]\n"
     ]
    }
   ],
   "source": [
    "print(mylist_of_num)\n",
    "print(my_newlist_num1)"
   ]
  },
  {
   "cell_type": "code",
   "execution_count": 210,
   "id": "670d71a1",
   "metadata": {},
   "outputs": [
    {
     "name": "stdout",
     "output_type": "stream",
     "text": [
      "2809002363584\n",
      "2809001855552\n"
     ]
    }
   ],
   "source": [
    "print(id(mylist_of_num))\n",
    "print(id(my_newlist_num1))"
   ]
  },
  {
   "cell_type": "code",
   "execution_count": 213,
   "id": "54f51b47",
   "metadata": {},
   "outputs": [],
   "source": [
    "my_newlist_num2 = mylist_of_num[:]"
   ]
  },
  {
   "cell_type": "code",
   "execution_count": 214,
   "id": "39073b37",
   "metadata": {},
   "outputs": [
    {
     "name": "stdout",
     "output_type": "stream",
     "text": [
      "[100, 19, 17, 15, 13, 11, 300, 5, 3, 1]\n",
      "[100, 19, 17, 15, 13, 11, 300, 5, 3, 1]\n",
      "[100, 19, 17, 15, 13, 11, 300, 5, 3, 1]\n"
     ]
    }
   ],
   "source": [
    "print(mylist_of_num)\n",
    "print(my_newlist_num1)\n",
    "print(my_newlist_num2)"
   ]
  },
  {
   "cell_type": "code",
   "execution_count": 215,
   "id": "4da21387",
   "metadata": {},
   "outputs": [
    {
     "name": "stdout",
     "output_type": "stream",
     "text": [
      "2809002363584\n",
      "2809001855552\n",
      "2809002390080\n"
     ]
    }
   ],
   "source": [
    "print(id(mylist_of_num))\n",
    "print(id(my_newlist_num1))\n",
    "print(id(my_newlist_num2))"
   ]
  },
  {
   "cell_type": "code",
   "execution_count": 216,
   "id": "8b779c15",
   "metadata": {},
   "outputs": [],
   "source": [
    "my_newlist_num1[5]=1000"
   ]
  },
  {
   "cell_type": "code",
   "execution_count": 217,
   "id": "66c612d2",
   "metadata": {},
   "outputs": [
    {
     "name": "stdout",
     "output_type": "stream",
     "text": [
      "[100, 19, 17, 15, 13, 11, 300, 5, 3, 1]\n",
      "[100, 19, 17, 15, 13, 1000, 300, 5, 3, 1]\n",
      "[100, 19, 17, 15, 13, 11, 300, 5, 3, 1]\n"
     ]
    }
   ],
   "source": [
    "print(mylist_of_num)\n",
    "print(my_newlist_num1)\n",
    "print(my_newlist_num2)"
   ]
  },
  {
   "cell_type": "markdown",
   "id": "c2e0930f",
   "metadata": {},
   "source": [
    "## List  Logical and Mathematical Operator"
   ]
  },
  {
   "cell_type": "code",
   "execution_count": 220,
   "id": "6db18aaa",
   "metadata": {},
   "outputs": [
    {
     "name": "stdout",
     "output_type": "stream",
     "text": [
      "False\n",
      "True\n"
     ]
    }
   ],
   "source": [
    "print(mylist_of_num == my_newlist_num1)\n",
    "print(mylist_of_num == my_newlist_num2)"
   ]
  },
  {
   "cell_type": "code",
   "execution_count": 221,
   "id": "a5dff2ae",
   "metadata": {},
   "outputs": [
    {
     "name": "stdout",
     "output_type": "stream",
     "text": [
      "True\n",
      "False\n"
     ]
    }
   ],
   "source": [
    "print(mylist_of_num != my_newlist_num1)\n",
    "print(mylist_of_num != my_newlist_num2)"
   ]
  },
  {
   "cell_type": "code",
   "execution_count": 224,
   "id": "b53311ef",
   "metadata": {},
   "outputs": [
    {
     "name": "stdout",
     "output_type": "stream",
     "text": [
      "True\n",
      "False\n",
      "True\n"
     ]
    }
   ],
   "source": [
    "print(mylist_of_num == my_newlist_num2) #checks whether elements are same\n",
    "print(mylist_of_num is my_newlist_num2) #checks whether objects are same\n",
    "print(mylist_of_num is my_newlist)"
   ]
  },
  {
   "cell_type": "code",
   "execution_count": 223,
   "id": "c3483ede",
   "metadata": {},
   "outputs": [
    {
     "name": "stdout",
     "output_type": "stream",
     "text": [
      "2809002363584\n",
      "2809001855552\n",
      "2809002363584\n"
     ]
    }
   ],
   "source": [
    "print(id(mylist_of_num))\n",
    "print(id(my_newlist_num1))\n",
    "print(id(my_newlist))"
   ]
  },
  {
   "cell_type": "code",
   "execution_count": 225,
   "id": "3765bd70",
   "metadata": {},
   "outputs": [
    {
     "name": "stdout",
     "output_type": "stream",
     "text": [
      "[100, 19, 17, 15, 13, 11, 300, 5, 3, 1]\n",
      "[100, 19, 17, 15, 13, 1000, 300, 5, 3, 1]\n",
      "[100, 19, 17, 15, 13, 11, 300, 5, 3, 1]\n"
     ]
    }
   ],
   "source": [
    "print(mylist_of_num)\n",
    "print(my_newlist_num1)\n",
    "print(my_newlist_num2)"
   ]
  },
  {
   "cell_type": "code",
   "execution_count": 247,
   "id": "b9d4af40",
   "metadata": {},
   "outputs": [
    {
     "name": "stdout",
     "output_type": "stream",
     "text": [
      "[10, 2, 3, 4, 5, 6, 7, 8, 9]\n",
      "[1, 3, 5, 7, 9]\n",
      "[10]\n"
     ]
    }
   ],
   "source": [
    "#When ever we are using relatational Operators (<, <=, >, >=) between List Objects, only 1ST Element comparison will be performed.\n",
    "list1 = list(range(1,10,1))\n",
    "list1[0]=10\n",
    "list2 = list(range(1,10,2))\n",
    "list3 = [10]\n",
    "print(list1)\n",
    "print(list2)\n",
    "print(list3)"
   ]
  },
  {
   "cell_type": "code",
   "execution_count": 250,
   "id": "6fcb5d76",
   "metadata": {},
   "outputs": [
    {
     "name": "stdout",
     "output_type": "stream",
     "text": [
      "True\n",
      "False\n"
     ]
    }
   ],
   "source": [
    "print(list1 > list3)\n",
    "print(list1 < list3)"
   ]
  },
  {
   "cell_type": "code",
   "execution_count": 227,
   "id": "1edf361b",
   "metadata": {},
   "outputs": [
    {
     "name": "stdout",
     "output_type": "stream",
     "text": [
      "[100, 19, 17, 15, 13, 11, 300, 5, 3, 1, 100, 19, 17, 15, 13, 1000, 300, 5, 3, 1]\n"
     ]
    }
   ],
   "source": [
    "a = mylist_of_num + my_newlist_num1 #this will append two list together\n",
    "print(a)"
   ]
  },
  {
   "cell_type": "code",
   "execution_count": 230,
   "id": "44dd4777",
   "metadata": {},
   "outputs": [
    {
     "name": "stdout",
     "output_type": "stream",
     "text": [
      "[100, 19, 17, 15, 13, 11, 300, 5, 3, 1, 100, 19, 17, 15, 13, 11, 300, 5, 3, 1, 100, 19, 17, 15, 13, 11, 300, 5, 3, 1, 100, 19, 17, 15, 13, 11, 300, 5, 3, 1, 100, 19, 17, 15, 13, 11, 300, 5, 3, 1, 100, 19, 17, 15, 13, 11, 300, 5, 3, 1, 100, 19, 17, 15, 13, 11, 300, 5, 3, 1, 100, 19, 17, 15, 13, 11, 300, 5, 3, 1, 100, 19, 17, 15, 13, 11, 300, 5, 3, 1, 100, 19, 17, 15, 13, 11, 300, 5, 3, 1]\n"
     ]
    }
   ],
   "source": [
    "b = mylist_of_num * 10 #this repeats same list for number of time \n",
    "print(b)"
   ]
  },
  {
   "cell_type": "code",
   "execution_count": 231,
   "id": "ca8517ec",
   "metadata": {},
   "outputs": [
    {
     "name": "stdout",
     "output_type": "stream",
     "text": [
      "False\n"
     ]
    }
   ],
   "source": [
    "print ( 10 in mylist_of_num)"
   ]
  },
  {
   "cell_type": "code",
   "execution_count": 232,
   "id": "be905009",
   "metadata": {},
   "outputs": [
    {
     "name": "stdout",
     "output_type": "stream",
     "text": [
      "['L', 'L', 'O', 'W', '9', '9', 'Z', 2, 1, 'Y', 4, 8, [1, 2], 'B', 'A', 4, 'A', 1, 'X', 4, 8, [1, 2], 'B', 4, 1, 'X', ['and', 'I', 'am', 'very', 'Alone'], ['Arnab', 'Bhowmik'], ['my', 'name', 'is']]\n"
     ]
    }
   ],
   "source": [
    "print(mynestedlist)"
   ]
  },
  {
   "cell_type": "code",
   "execution_count": 234,
   "id": "ed232f24",
   "metadata": {},
   "outputs": [
    {
     "name": "stdout",
     "output_type": "stream",
     "text": [
      "True\n"
     ]
    }
   ],
   "source": [
    "print ( ['Arnab', 'Bhowmik'] in mynestedlist)"
   ]
  },
  {
   "cell_type": "code",
   "execution_count": null,
   "id": "e3c37a1b",
   "metadata": {},
   "outputs": [],
   "source": []
  }
 ],
 "metadata": {
  "kernelspec": {
   "display_name": "Python 3",
   "language": "python",
   "name": "python3"
  },
  "language_info": {
   "codemirror_mode": {
    "name": "ipython",
    "version": 3
   },
   "file_extension": ".py",
   "mimetype": "text/x-python",
   "name": "python",
   "nbconvert_exporter": "python",
   "pygments_lexer": "ipython3",
   "version": "3.8.8"
  }
 },
 "nbformat": 4,
 "nbformat_minor": 5
}
