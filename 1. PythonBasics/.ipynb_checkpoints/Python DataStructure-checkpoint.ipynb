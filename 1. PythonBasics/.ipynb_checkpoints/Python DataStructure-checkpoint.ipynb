{
 "cells": [
  {
   "cell_type": "markdown",
   "id": "ce43e10e",
   "metadata": {},
   "source": [
    "## LIST"
   ]
  },
  {
   "cell_type": "markdown",
   "id": "fb44d419",
   "metadata": {},
   "source": [
    "###  Creating List "
   ]
  },
  {
   "cell_type": "code",
   "execution_count": 12,
   "id": "2072d42a",
   "metadata": {},
   "outputs": [
    {
     "name": "stdout",
     "output_type": "stream",
     "text": [
      "[1, 2, 3, 4]\n"
     ]
    }
   ],
   "source": [
    "#create list with list Function to convert other objets into List\n",
    "myset={1,2,3,4}\n",
    "mylist1=list(myset)\n",
    "print(mylist1)"
   ]
  },
  {
   "cell_type": "code",
   "execution_count": 19,
   "id": "d8547230",
   "metadata": {},
   "outputs": [
    {
     "name": "stdout",
     "output_type": "stream",
     "text": [
      "[1, 3, 5, 7, 9, 11, 13, 15, 17, 19]\n"
     ]
    }
   ],
   "source": [
    "#create a list with list function using range of values\n",
    "mylist=list(range(1,20,2))\n",
    "print(mylist)"
   ]
  },
  {
   "cell_type": "code",
   "execution_count": 71,
   "id": "27459ff8",
   "metadata": {},
   "outputs": [
    {
     "name": "stdout",
     "output_type": "stream",
     "text": [
      "enter a string:my name is, Arnab Bhowmik, and I am very Alone\n",
      "['my name is', ' Arnab Bhowmik', ' and I am very Alone']\n"
     ]
    }
   ],
   "source": [
    "#create list from string split function\n",
    "mystring = input(\"enter a string:\")\n",
    "mylist=mystring.split(',')\n",
    "print(mylist)"
   ]
  },
  {
   "cell_type": "code",
   "execution_count": 30,
   "id": "4bdf1d42",
   "metadata": {},
   "outputs": [
    {
     "name": "stdout",
     "output_type": "stream",
     "text": [
      "enter a Srting:my name is, Arnab Bhowwmik, and I am very Alone\n",
      "['m', 'y', ' ', 'n', 'a', 'm', 'e', ' ', 'i', 's', ',', ' ', 'A', 'r', 'n', 'a', 'b', ' ', 'B', 'h', 'o', 'w', 'w', 'm', 'i', 'k', ',', ' ', 'a', 'n', 'd', ' ', 'I', ' ', 'a', 'm', ' ', 'v', 'e', 'r', 'y', ' ', 'A', 'l', 'o', 'n', 'e']\n"
     ]
    }
   ],
   "source": [
    "#create list from string \n",
    "mystring = input(\"enter a Srting:\")\n",
    "mylist=list(mystring)\n",
    "print(mylist)"
   ]
  },
  {
   "cell_type": "markdown",
   "id": "4fc55fc9",
   "metadata": {},
   "source": [
    "# DO NOT RUN NOW"
   ]
  },
  {
   "cell_type": "code",
   "execution_count": null,
   "id": "cf58a37d",
   "metadata": {},
   "outputs": [],
   "source": [
    "#CREATE A BLANK mylist\n",
    "mylist = []\n",
    "print(mylist)"
   ]
  },
  {
   "cell_type": "code",
   "execution_count": 78,
   "id": "baf5ccee",
   "metadata": {},
   "outputs": [
    {
     "name": "stdout",
     "output_type": "stream",
     "text": [
      "[1, 'A', 'B', (1, 2), {1, 42, 'A'}, [1, 2, 5]]\n",
      "<class 'list'>\n"
     ]
    }
   ],
   "source": [
    "#CREATE A mylist with known elements\n",
    "mylist = [1,\"A\",'B',(1,2),{1,42,'A'},[1,2,5]]\n",
    "print(mylist)\n",
    "print(type(mylist))"
   ]
  },
  {
   "cell_type": "code",
   "execution_count": null,
   "id": "90f98ad0",
   "metadata": {},
   "outputs": [],
   "source": [
    "#CREATE A mylist with dynamic input # as String as eval was not used\n",
    "mylist = input(\"enter a mylist:\")\n",
    "print(mylist)\n",
    "print(type(mylist))"
   ]
  },
  {
   "cell_type": "code",
   "execution_count": null,
   "id": "464395b9",
   "metadata": {},
   "outputs": [],
   "source": [
    "#CREATE A mylist with dynamic input with Eval\n",
    "mylist = eval(input(\"enter a mylist:\"))\n",
    "print(mylist)\n",
    "print(type(mylist))"
   ]
  },
  {
   "cell_type": "markdown",
   "id": "34845702",
   "metadata": {},
   "source": [
    "## Traversing a list"
   ]
  },
  {
   "cell_type": "code",
   "execution_count": 20,
   "id": "53517423",
   "metadata": {},
   "outputs": [
    {
     "name": "stdout",
     "output_type": "stream",
     "text": [
      "[1, 3, 5, 7, 9, 11, 13, 15, 17, 19]\n"
     ]
    }
   ],
   "source": [
    "mylist2=list(range(1,20,2))\n",
    "print(mylist2)"
   ]
  },
  {
   "cell_type": "code",
   "execution_count": 23,
   "id": "869479a7",
   "metadata": {},
   "outputs": [
    {
     "name": "stdout",
     "output_type": "stream",
     "text": [
      "1\n",
      "3\n",
      "5\n",
      "7\n",
      "9\n",
      "11\n",
      "13\n",
      "15\n",
      "17\n",
      "19\n"
     ]
    }
   ],
   "source": [
    "for l in mylist2:\n",
    "    print(l)"
   ]
  },
  {
   "cell_type": "code",
   "execution_count": 45,
   "id": "78d78560",
   "metadata": {},
   "outputs": [
    {
     "name": "stdout",
     "output_type": "stream",
     "text": [
      "10\n",
      "value 1 present in positive index 0 and negative index 10\n",
      "value 3 present in positive index 1 and negative index 9\n",
      "value 5 present in positive index 2 and negative index 8\n",
      "value 7 present in positive index 3 and negative index 7\n",
      "value 9 present in positive index 4 and negative index 6\n",
      "value 11 present in positive index 5 and negative index 5\n",
      "value 13 present in positive index 6 and negative index 4\n",
      "value 15 present in positive index 7 and negative index 3\n",
      "value 17 present in positive index 8 and negative index 2\n",
      "value 19 present in positive index 9 and negative index 1\n"
     ]
    }
   ],
   "source": [
    "listlen =len(mylist2)\n",
    "print(listlen)\n",
    "l=0\n",
    "while l < listlen:\n",
    "    print(\"value {} present in positive index {} and negative index {}\".format(mylist2[l],l,(listlen-l)))\n",
    "    l= l+1    "
   ]
  },
  {
   "cell_type": "markdown",
   "id": "08055e9d",
   "metadata": {},
   "source": [
    "## Access List using index"
   ]
  },
  {
   "cell_type": "code",
   "execution_count": 46,
   "id": "5ec88ca1",
   "metadata": {},
   "outputs": [
    {
     "name": "stdout",
     "output_type": "stream",
     "text": [
      "[1, 3, 5, 7, 9, 11, 13, 15, 17, 19]\n"
     ]
    }
   ],
   "source": [
    "print(mylist2)"
   ]
  },
  {
   "cell_type": "code",
   "execution_count": 53,
   "id": "4d2df2fc",
   "metadata": {},
   "outputs": [
    {
     "name": "stdout",
     "output_type": "stream",
     "text": [
      "11\n",
      "17\n"
     ]
    }
   ],
   "source": [
    "print(mylist2[5])\n",
    "print(mylist2[-2])"
   ]
  },
  {
   "cell_type": "code",
   "execution_count": 50,
   "id": "03e9b963",
   "metadata": {},
   "outputs": [
    {
     "data": {
      "text/plain": [
       "1"
      ]
     },
     "execution_count": 50,
     "metadata": {},
     "output_type": "execute_result"
    }
   ],
   "source": [
    "#grab first element\n",
    "mylist2[0]"
   ]
  },
  {
   "cell_type": "code",
   "execution_count": 52,
   "id": "69d24d21",
   "metadata": {},
   "outputs": [
    {
     "data": {
      "text/plain": [
       "17"
      ]
     },
     "execution_count": 52,
     "metadata": {},
     "output_type": "execute_result"
    }
   ],
   "source": [
    "#grab last element\n",
    "mylist2[-1]"
   ]
  },
  {
   "cell_type": "markdown",
   "id": "b29df1b9",
   "metadata": {},
   "source": [
    "# Slicing of List"
   ]
  },
  {
   "cell_type": "code",
   "execution_count": 55,
   "id": "5999cb8a",
   "metadata": {},
   "outputs": [
    {
     "name": "stdout",
     "output_type": "stream",
     "text": [
      "[1, 3, 5, 7, 9, 11, 13, 15, 17, 19]\n"
     ]
    }
   ],
   "source": [
    "print(mylist2)"
   ]
  },
  {
   "cell_type": "code",
   "execution_count": 59,
   "id": "770008c5",
   "metadata": {},
   "outputs": [
    {
     "name": "stdout",
     "output_type": "stream",
     "text": [
      "[5, 7, 9]\n"
     ]
    }
   ],
   "source": [
    "print(mylist2[2:5])"
   ]
  },
  {
   "cell_type": "code",
   "execution_count": 64,
   "id": "14b2d1e2",
   "metadata": {},
   "outputs": [
    {
     "name": "stdout",
     "output_type": "stream",
     "text": [
      "[5, 11]\n"
     ]
    }
   ],
   "source": [
    "print(mylist2[2:7:3]) # step should be more than 0, default is 1"
   ]
  },
  {
   "cell_type": "code",
   "execution_count": 65,
   "id": "aa459727",
   "metadata": {},
   "outputs": [
    {
     "name": "stdout",
     "output_type": "stream",
     "text": [
      "[1, 3, 5, 7, 9]\n"
     ]
    }
   ],
   "source": [
    "print(mylist2[:5])"
   ]
  },
  {
   "cell_type": "code",
   "execution_count": 66,
   "id": "167d0a75",
   "metadata": {},
   "outputs": [
    {
     "name": "stdout",
     "output_type": "stream",
     "text": [
      "[7, 9, 11, 13, 15, 17, 19]\n"
     ]
    }
   ],
   "source": [
    "print(mylist2[3:])"
   ]
  },
  {
   "cell_type": "code",
   "execution_count": 67,
   "id": "8bcaa235",
   "metadata": {},
   "outputs": [
    {
     "name": "stdout",
     "output_type": "stream",
     "text": [
      "[1, 3, 5, 7, 9, 11, 13, 15, 17, 19]\n"
     ]
    }
   ],
   "source": [
    "print(mylist2[:])"
   ]
  },
  {
   "cell_type": "code",
   "execution_count": 68,
   "id": "c0c4f996",
   "metadata": {},
   "outputs": [
    {
     "name": "stdout",
     "output_type": "stream",
     "text": [
      "[1, 5, 9, 13, 17]\n"
     ]
    }
   ],
   "source": [
    "print(mylist2[::2])"
   ]
  },
  {
   "cell_type": "markdown",
   "id": "9c4e1714",
   "metadata": {},
   "source": [
    "## Nested List"
   ]
  },
  {
   "cell_type": "code",
   "execution_count": 72,
   "id": "4c05d273",
   "metadata": {},
   "outputs": [
    {
     "name": "stdout",
     "output_type": "stream",
     "text": [
      "['my name is', ' Arnab Bhowmik', ' and I am very Alone']\n"
     ]
    }
   ],
   "source": [
    "print(mylist)"
   ]
  },
  {
   "cell_type": "code",
   "execution_count": 92,
   "id": "a58eb4fb",
   "metadata": {},
   "outputs": [
    {
     "name": "stdout",
     "output_type": "stream",
     "text": [
      "['my', 'name', 'is']\n",
      "[['my', 'name', 'is']]\n",
      "['Arnab', 'Bhowmik']\n",
      "[['my', 'name', 'is'], ['Arnab', 'Bhowmik']]\n",
      "['and', 'I', 'am', 'very', 'Alone']\n",
      "[['my', 'name', 'is'], ['Arnab', 'Bhowmik'], ['and', 'I', 'am', 'very', 'Alone']]\n"
     ]
    }
   ],
   "source": [
    "mynestedlist=[]\n",
    "for i in mylist:\n",
    "    mylist1 = list(i.split())\n",
    "    mynestedlist.append(mylist1)\n",
    "    print(mylist1)\n",
    "    print(mynestedlist)\n",
    "    "
   ]
  },
  {
   "cell_type": "code",
   "execution_count": 93,
   "id": "43aec1c9",
   "metadata": {},
   "outputs": [
    {
     "name": "stdout",
     "output_type": "stream",
     "text": [
      "[['my', 'name', 'is'], ['Arnab', 'Bhowmik'], ['and', 'I', 'am', 'very', 'Alone']]\n"
     ]
    }
   ],
   "source": [
    "  print(mynestedlist)"
   ]
  },
  {
   "cell_type": "code",
   "execution_count": 97,
   "id": "c96d8f24",
   "metadata": {},
   "outputs": [
    {
     "data": {
      "text/plain": [
       "'Alone'"
      ]
     },
     "execution_count": 97,
     "metadata": {},
     "output_type": "execute_result"
    }
   ],
   "source": [
    "mynestedlist[2][-1]"
   ]
  },
  {
   "cell_type": "markdown",
   "id": "12fed034",
   "metadata": {},
   "source": [
    "## List Functions"
   ]
  },
  {
   "cell_type": "code",
   "execution_count": 138,
   "id": "68528b9e",
   "metadata": {},
   "outputs": [
    {
     "name": "stdout",
     "output_type": "stream",
     "text": [
      "[1, 'A', 'A', 'B', [1, 2]]\n",
      "<class 'list'>\n"
     ]
    }
   ],
   "source": [
    "mylist = [1,\"A\",'A','B',[1,2]]\n",
    "print(mylist)\n",
    "print(type(mylist))"
   ]
  },
  {
   "cell_type": "code",
   "execution_count": 139,
   "id": "2206cac8",
   "metadata": {},
   "outputs": [
    {
     "data": {
      "text/plain": [
       "5"
      ]
     },
     "execution_count": 139,
     "metadata": {},
     "output_type": "execute_result"
    }
   ],
   "source": [
    "len(mylist)"
   ]
  },
  {
   "cell_type": "code",
   "execution_count": 140,
   "id": "3d86e1ec",
   "metadata": {},
   "outputs": [
    {
     "data": {
      "text/plain": [
       "2"
      ]
     },
     "execution_count": 140,
     "metadata": {},
     "output_type": "execute_result"
    }
   ],
   "source": [
    "mylist.count('A')"
   ]
  },
  {
   "cell_type": "code",
   "execution_count": 141,
   "id": "93fd420f",
   "metadata": {},
   "outputs": [
    {
     "data": {
      "text/plain": [
       "0"
      ]
     },
     "execution_count": 141,
     "metadata": {},
     "output_type": "execute_result"
    }
   ],
   "source": [
    "mylist.count('2')"
   ]
  },
  {
   "cell_type": "code",
   "execution_count": 111,
   "id": "b96f8588",
   "metadata": {},
   "outputs": [
    {
     "data": {
      "text/plain": [
       "1"
      ]
     },
     "execution_count": 111,
     "metadata": {},
     "output_type": "execute_result"
    }
   ],
   "source": [
    "mylist.count('A')"
   ]
  },
  {
   "cell_type": "code",
   "execution_count": 113,
   "id": "73f61795",
   "metadata": {},
   "outputs": [
    {
     "data": {
      "text/plain": [
       "1"
      ]
     },
     "execution_count": 113,
     "metadata": {},
     "output_type": "execute_result"
    }
   ],
   "source": [
    "mylist.count([1,2])"
   ]
  },
  {
   "cell_type": "code",
   "execution_count": 118,
   "id": "9188ff94",
   "metadata": {},
   "outputs": [
    {
     "name": "stdout",
     "output_type": "stream",
     "text": [
      "2\n"
     ]
    }
   ],
   "source": [
    "print(mylist.index('B')) #this returns indexor position of provided element"
   ]
  },
  {
   "cell_type": "code",
   "execution_count": 142,
   "id": "4b3f587b",
   "metadata": {},
   "outputs": [
    {
     "name": "stdout",
     "output_type": "stream",
     "text": [
      "[1, 'A', 'A', 'B', [1, 2]]\n"
     ]
    }
   ],
   "source": [
    "print(mylist)"
   ]
  },
  {
   "cell_type": "code",
   "execution_count": 143,
   "id": "61d6e020",
   "metadata": {},
   "outputs": [],
   "source": [
    "mylist.append(4) # apend will always enter at last"
   ]
  },
  {
   "cell_type": "code",
   "execution_count": 144,
   "id": "3080adb6",
   "metadata": {},
   "outputs": [
    {
     "name": "stdout",
     "output_type": "stream",
     "text": [
      "[1, 'A', 'A', 'B', [1, 2], 4]\n"
     ]
    }
   ],
   "source": [
    "print(mylist)"
   ]
  },
  {
   "cell_type": "code",
   "execution_count": 145,
   "id": "3753d99e",
   "metadata": {},
   "outputs": [],
   "source": [
    "mylist.insert(2,4) # using insert function we can sprcify position where we want to insert # always need two argument"
   ]
  },
  {
   "cell_type": "code",
   "execution_count": 146,
   "id": "abc88e8d",
   "metadata": {},
   "outputs": [
    {
     "name": "stdout",
     "output_type": "stream",
     "text": [
      "[1, 'A', 4, 'A', 'B', [1, 2], 4]\n"
     ]
    }
   ],
   "source": [
    "print(mylist)"
   ]
  },
  {
   "cell_type": "code",
   "execution_count": 147,
   "id": "803af8fd",
   "metadata": {},
   "outputs": [],
   "source": [
    "#duplicate is allowed in List"
   ]
  },
  {
   "cell_type": "code",
   "execution_count": 148,
   "id": "2ff70c8c",
   "metadata": {},
   "outputs": [
    {
     "data": {
      "text/plain": [
       "7"
      ]
     },
     "execution_count": 148,
     "metadata": {},
     "output_type": "execute_result"
    }
   ],
   "source": [
    "len(mylist)"
   ]
  },
  {
   "cell_type": "code",
   "execution_count": 149,
   "id": "32be78e9",
   "metadata": {},
   "outputs": [
    {
     "name": "stdout",
     "output_type": "stream",
     "text": [
      "[1, 'A', 4, 'A', 'B', [1, 2], 4]\n"
     ]
    }
   ],
   "source": [
    "print(mylist)"
   ]
  },
  {
   "cell_type": "code",
   "execution_count": 150,
   "id": "51795d8e",
   "metadata": {},
   "outputs": [
    {
     "name": "stdout",
     "output_type": "stream",
     "text": [
      "[1, 'A', 4, 'A', 'B', [1, 2], 8, 4]\n"
     ]
    }
   ],
   "source": [
    "mylist.insert(-1,8)\n",
    "print(mylist)"
   ]
  },
  {
   "cell_type": "markdown",
   "id": "517e4055",
   "metadata": {},
   "source": [
    "#### If the specified index is greater than max index then element will be inserted at last position. If the specified index is smaller than min index then element will be inserted at first position."
   ]
  },
  {
   "cell_type": "code",
   "execution_count": 151,
   "id": "e9e02950",
   "metadata": {},
   "outputs": [
    {
     "name": "stdout",
     "output_type": "stream",
     "text": [
      "['X', 1, 'A', 4, 'A', 'B', [1, 2], 8, 4]\n"
     ]
    }
   ],
   "source": [
    "mylist.insert(-20,'X')\n",
    "print(mylist)"
   ]
  },
  {
   "cell_type": "code",
   "execution_count": 152,
   "id": "e4adcc8b",
   "metadata": {},
   "outputs": [
    {
     "name": "stdout",
     "output_type": "stream",
     "text": [
      "['X', 1, 'A', 4, 'A', 'B', [1, 2], 8, 4, 'Y']\n"
     ]
    }
   ],
   "source": [
    "mylist.insert(20,'Y')\n",
    "print(mylist)"
   ]
  },
  {
   "cell_type": "code",
   "execution_count": 154,
   "id": "c8ff1a82",
   "metadata": {},
   "outputs": [
    {
     "name": "stdout",
     "output_type": "stream",
     "text": [
      "[['my', 'name', 'is'], ['Arnab', 'Bhowmik'], ['and', 'I', 'am', 'very', 'Alone']]\n"
     ]
    }
   ],
   "source": [
    "print(mynestedlist)"
   ]
  },
  {
   "cell_type": "code",
   "execution_count": 156,
   "id": "33f33a39",
   "metadata": {},
   "outputs": [
    {
     "name": "stdout",
     "output_type": "stream",
     "text": [
      "[['my', 'name', 'is'], ['Arnab', 'Bhowmik'], ['and', 'I', 'am', 'very', 'Alone'], 'X', 1, 'A', 4, 'A', 'B', [1, 2], 8, 4, 'Y', 'X', 1, 'A', 4, 'A', 'B', [1, 2], 8, 4, 'Y']\n"
     ]
    }
   ],
   "source": [
    "mynestedlist.extend(mylist) \n",
    "print(mynestedlist)"
   ]
  },
  {
   "cell_type": "code",
   "execution_count": 162,
   "id": "9e7b3909",
   "metadata": {},
   "outputs": [
    {
     "ename": "TypeError",
     "evalue": "'int' object is not iterable",
     "output_type": "error",
     "traceback": [
      "\u001b[1;31m---------------------------------------------------------------------------\u001b[0m",
      "\u001b[1;31mTypeError\u001b[0m                                 Traceback (most recent call last)",
      "\u001b[1;32m<ipython-input-162-3862ecb718d9>\u001b[0m in \u001b[0;36m<module>\u001b[1;34m\u001b[0m\n\u001b[1;32m----> 1\u001b[1;33m \u001b[0mmynestedlist\u001b[0m\u001b[1;33m.\u001b[0m\u001b[0mextend\u001b[0m\u001b[1;33m(\u001b[0m\u001b[1;36m99\u001b[0m\u001b[1;33m)\u001b[0m\u001b[1;33m\u001b[0m\u001b[1;33m\u001b[0m\u001b[0m\n\u001b[0m",
      "\u001b[1;31mTypeError\u001b[0m: 'int' object is not iterable"
     ]
    }
   ],
   "source": [
    "mynestedlist.extend(99) "
   ]
  },
  {
   "cell_type": "code",
   "execution_count": 165,
   "id": "c61a5ede",
   "metadata": {},
   "outputs": [],
   "source": [
    "mynestedlist.extend('99') "
   ]
  },
  {
   "cell_type": "code",
   "execution_count": 167,
   "id": "a0eb2291",
   "metadata": {},
   "outputs": [],
   "source": [
    "mynestedlist.extend('W') "
   ]
  },
  {
   "cell_type": "code",
   "execution_count": 169,
   "id": "f863efb5",
   "metadata": {},
   "outputs": [],
   "source": [
    "mynestedlist.extend('JOLLY') "
   ]
  },
  {
   "cell_type": "code",
   "execution_count": 180,
   "id": "2a78102c",
   "metadata": {},
   "outputs": [
    {
     "name": "stdout",
     "output_type": "stream",
     "text": [
      "[['my', 'name', 'is'], ['Arnab', 'Bhowmik'], ['and', 'I', 'am', 'very', 'Alone'], 'X', 1, 4, 'A', 'B', [1, 2], 8, 4, 'Y', 'X', 1, 'A', 4, 'A', 'B', [1, 2], 8, 4, 'Y', 1, 2, 'Z', '9', '9', 'W', 'O', 'L', 'L']\n"
     ]
    }
   ],
   "source": [
    "print(mynestedlist)"
   ]
  },
  {
   "cell_type": "code",
   "execution_count": 236,
   "id": "77bd5200",
   "metadata": {},
   "outputs": [],
   "source": [
    "mylist2.clear()"
   ]
  },
  {
   "cell_type": "code",
   "execution_count": 237,
   "id": "37fd93f3",
   "metadata": {},
   "outputs": [
    {
     "name": "stdout",
     "output_type": "stream",
     "text": [
      "[]\n"
     ]
    }
   ],
   "source": [
    "print(mylist2)"
   ]
  },
  {
   "cell_type": "code",
   "execution_count": 238,
   "id": "7e3017a4",
   "metadata": {},
   "outputs": [
    {
     "name": "stdout",
     "output_type": "stream",
     "text": [
      "2809001950208\n"
     ]
    }
   ],
   "source": [
    "print(id(mylist2))"
   ]
  },
  {
   "cell_type": "code",
   "execution_count": 181,
   "id": "0981f038",
   "metadata": {},
   "outputs": [],
   "source": [
    "mynestedlist.remove('A') \n",
    "#We need to pass the element we want to remove\n",
    "#this will remove only the first occurance of given element \n",
    "#if element not present then it will give value error"
   ]
  },
  {
   "cell_type": "code",
   "execution_count": 182,
   "id": "d9bee9e2",
   "metadata": {},
   "outputs": [
    {
     "name": "stdout",
     "output_type": "stream",
     "text": [
      "[['my', 'name', 'is'], ['Arnab', 'Bhowmik'], ['and', 'I', 'am', 'very', 'Alone'], 'X', 1, 4, 'B', [1, 2], 8, 4, 'Y', 'X', 1, 'A', 4, 'A', 'B', [1, 2], 8, 4, 'Y', 1, 2, 'Z', '9', '9', 'W', 'O', 'L', 'L']\n"
     ]
    }
   ],
   "source": [
    "print(mynestedlist) "
   ]
  },
  {
   "cell_type": "code",
   "execution_count": 178,
   "id": "9d1d21a4",
   "metadata": {},
   "outputs": [
    {
     "data": {
      "text/plain": [
       "'Y'"
      ]
     },
     "execution_count": 178,
     "metadata": {},
     "output_type": "execute_result"
    }
   ],
   "source": [
    "mynestedlist.pop()\n",
    "# this will pop out last element and return the same"
   ]
  },
  {
   "cell_type": "code",
   "execution_count": 179,
   "id": "4e997b66",
   "metadata": {},
   "outputs": [
    {
     "name": "stdout",
     "output_type": "stream",
     "text": [
      "[['my', 'name', 'is'], ['Arnab', 'Bhowmik'], ['and', 'I', 'am', 'very', 'Alone'], 'X', 1, 4, 'A', 'B', [1, 2], 8, 4, 'Y', 'X', 1, 'A', 4, 'A', 'B', [1, 2], 8, 4, 'Y', 1, 2, 'Z', '9', '9', 'W', 'O', 'L', 'L']\n"
     ]
    }
   ],
   "source": [
    "print(mynestedlist)"
   ]
  },
  {
   "cell_type": "code",
   "execution_count": 183,
   "id": "ce27f722",
   "metadata": {},
   "outputs": [
    {
     "data": {
      "text/plain": [
       "'Y'"
      ]
     },
     "execution_count": 183,
     "metadata": {},
     "output_type": "execute_result"
    }
   ],
   "source": [
    "mynestedlist.pop(10)\n",
    "# we need to pass index we want the value\n",
    "# this will pop out element present in given index and return the same"
   ]
  },
  {
   "cell_type": "code",
   "execution_count": 184,
   "id": "cc9369ee",
   "metadata": {},
   "outputs": [
    {
     "name": "stdout",
     "output_type": "stream",
     "text": [
      "[['my', 'name', 'is'], ['Arnab', 'Bhowmik'], ['and', 'I', 'am', 'very', 'Alone'], 'X', 1, 4, 'B', [1, 2], 8, 4, 'X', 1, 'A', 4, 'A', 'B', [1, 2], 8, 4, 'Y', 1, 2, 'Z', '9', '9', 'W', 'O', 'L', 'L']\n"
     ]
    }
   ],
   "source": [
    "print(mynestedlist)"
   ]
  },
  {
   "cell_type": "code",
   "execution_count": 188,
   "id": "8702fdb7",
   "metadata": {},
   "outputs": [
    {
     "name": "stdout",
     "output_type": "stream",
     "text": [
      "[1, 'A', 'A', 'B', 23]\n",
      "<class 'list'>\n"
     ]
    }
   ],
   "source": [
    "mylist = [1,\"A\",'A','B',23]\n",
    "print(mylist)\n",
    "print(type(mylist))"
   ]
  },
  {
   "cell_type": "code",
   "execution_count": 190,
   "id": "6b1d4aa7",
   "metadata": {},
   "outputs": [],
   "source": [
    "mylist.reverse()"
   ]
  },
  {
   "cell_type": "code",
   "execution_count": 191,
   "id": "4f613816",
   "metadata": {},
   "outputs": [
    {
     "name": "stdout",
     "output_type": "stream",
     "text": [
      "[23, 'B', 'A', 'A', 1]\n"
     ]
    }
   ],
   "source": [
    "print(mylist)"
   ]
  },
  {
   "cell_type": "code",
   "execution_count": 192,
   "id": "56761b3d",
   "metadata": {},
   "outputs": [
    {
     "ename": "TypeError",
     "evalue": "'<' not supported between instances of 'str' and 'int'",
     "output_type": "error",
     "traceback": [
      "\u001b[1;31m---------------------------------------------------------------------------\u001b[0m",
      "\u001b[1;31mTypeError\u001b[0m                                 Traceback (most recent call last)",
      "\u001b[1;32m<ipython-input-192-9eac85d13eba>\u001b[0m in \u001b[0;36m<module>\u001b[1;34m\u001b[0m\n\u001b[1;32m----> 1\u001b[1;33m \u001b[0mmylist\u001b[0m\u001b[1;33m.\u001b[0m\u001b[0msort\u001b[0m\u001b[1;33m(\u001b[0m\u001b[1;33m)\u001b[0m\u001b[1;33m\u001b[0m\u001b[1;33m\u001b[0m\u001b[0m\n\u001b[0m\u001b[0;32m      2\u001b[0m \u001b[0mprint\u001b[0m\u001b[1;33m(\u001b[0m\u001b[0mmylist\u001b[0m\u001b[1;33m)\u001b[0m\u001b[1;33m\u001b[0m\u001b[1;33m\u001b[0m\u001b[0m\n",
      "\u001b[1;31mTypeError\u001b[0m: '<' not supported between instances of 'str' and 'int'"
     ]
    }
   ],
   "source": [
    "mylist.sort()\n",
    "print(mylist)\n",
    "#To use sort() function, compulsory list should contain only homogeneous elements. Otherwise we will get TypeError"
   ]
  },
  {
   "cell_type": "code",
   "execution_count": 54,
   "id": "d51bda2c",
   "metadata": {},
   "outputs": [
    {
     "name": "stdout",
     "output_type": "stream",
     "text": [
      "[1, 3, 5, 7, 9, 11, 13, 15, 17, 19]\n"
     ]
    }
   ],
   "source": [
    "mylist_of_num=list(range(1,20,2))\n",
    "print(mylist_of_num)"
   ]
  },
  {
   "cell_type": "code",
   "execution_count": 6,
   "id": "3e059278",
   "metadata": {},
   "outputs": [
    {
     "data": {
      "text/plain": [
       "100"
      ]
     },
     "execution_count": 6,
     "metadata": {},
     "output_type": "execute_result"
    }
   ],
   "source": [
    "sum(mylist_of_num)"
   ]
  },
  {
   "cell_type": "code",
   "execution_count": 74,
   "id": "ad11b8e3",
   "metadata": {},
   "outputs": [
    {
     "data": {
      "text/plain": [
       "1"
      ]
     },
     "execution_count": 74,
     "metadata": {},
     "output_type": "execute_result"
    }
   ],
   "source": [
    "min(mylist_of_num)"
   ]
  },
  {
   "cell_type": "code",
   "execution_count": 75,
   "id": "e56a3fdb",
   "metadata": {},
   "outputs": [
    {
     "data": {
      "text/plain": [
       "19"
      ]
     },
     "execution_count": 75,
     "metadata": {},
     "output_type": "execute_result"
    }
   ],
   "source": [
    "max(mylist_of_num)"
   ]
  },
  {
   "cell_type": "code",
   "execution_count": 195,
   "id": "32eb2dcd",
   "metadata": {},
   "outputs": [
    {
     "name": "stdout",
     "output_type": "stream",
     "text": [
      "[1, 3, 5, 7, 100, 11, 13, 15, 17, 19]\n"
     ]
    }
   ],
   "source": [
    "mylist_of_num[4]=100\n",
    "print(mylist_of_num)"
   ]
  },
  {
   "cell_type": "code",
   "execution_count": 53,
   "id": "d85c7182",
   "metadata": {},
   "outputs": [
    {
     "name": "stdout",
     "output_type": "stream",
     "text": [
      "[1, 3, 5, 7, 9, 11, 13, 15, 17, 19]\n"
     ]
    }
   ],
   "source": [
    "mylist_of_num.sort()\n",
    "print(mylist_of_num)\n"
   ]
  },
  {
   "cell_type": "markdown",
   "id": "9248fe17",
   "metadata": {},
   "source": [
    "using sorted funtion"
   ]
  },
  {
   "cell_type": "code",
   "execution_count": 55,
   "id": "6d1c9efe",
   "metadata": {},
   "outputs": [
    {
     "name": "stdout",
     "output_type": "stream",
     "text": [
      "[1, 3, 5, 7, 9, 11, 13, 15, 17, 19]\n"
     ]
    }
   ],
   "source": [
    "print(mylist_of_num)"
   ]
  },
  {
   "cell_type": "code",
   "execution_count": 59,
   "id": "33aeb89f",
   "metadata": {},
   "outputs": [
    {
     "name": "stdout",
     "output_type": "stream",
     "text": [
      "[19, 17, 15, 13, 11, 9, 7, 5, 3, 1]\n",
      "[1, 3, 5, 7, 9, 11, 13, 15, 17, 19]\n"
     ]
    }
   ],
   "source": [
    "mylist_desc = sorted(mylist_of_num, reverse = True)\n",
    "print(mylist_desc)\n",
    "print(mylist_of_num)"
   ]
  },
  {
   "cell_type": "code",
   "execution_count": 58,
   "id": "9e60bd64",
   "metadata": {},
   "outputs": [
    {
     "data": {
      "text/plain": [
       "[1, 3, 5, 7, 9, 11, 13, 15, 17, 19]"
      ]
     },
     "execution_count": 58,
     "metadata": {},
     "output_type": "execute_result"
    }
   ],
   "source": [
    "mylist_asc = sorted(mylist_of_num)\n",
    "mylist_asc"
   ]
  },
  {
   "cell_type": "markdown",
   "id": "c2d76460",
   "metadata": {},
   "source": [
    "## Aliasing"
   ]
  },
  {
   "cell_type": "code",
   "execution_count": 198,
   "id": "9ac9e1b8",
   "metadata": {},
   "outputs": [
    {
     "name": "stdout",
     "output_type": "stream",
     "text": [
      "[100, 19, 17, 15, 13, 11, 7, 5, 3, 1]\n"
     ]
    }
   ],
   "source": [
    "print(mylist_of_num)"
   ]
  },
  {
   "cell_type": "code",
   "execution_count": 199,
   "id": "59dc5101",
   "metadata": {},
   "outputs": [],
   "source": [
    "my_newlist = mylist_of_num"
   ]
  },
  {
   "cell_type": "code",
   "execution_count": 200,
   "id": "7e1cb1e9",
   "metadata": {},
   "outputs": [
    {
     "name": "stdout",
     "output_type": "stream",
     "text": [
      "[100, 19, 17, 15, 13, 11, 7, 5, 3, 1]\n",
      "[100, 19, 17, 15, 13, 11, 7, 5, 3, 1]\n"
     ]
    }
   ],
   "source": [
    "print(mylist_of_num)\n",
    "print(my_newlist)"
   ]
  },
  {
   "cell_type": "code",
   "execution_count": 201,
   "id": "4a8c6536",
   "metadata": {},
   "outputs": [
    {
     "name": "stdout",
     "output_type": "stream",
     "text": [
      "2809002363584\n",
      "2809002363584\n"
     ]
    }
   ],
   "source": [
    "print(id(mylist_of_num))\n",
    "print(id(my_newlist))"
   ]
  },
  {
   "cell_type": "code",
   "execution_count": 202,
   "id": "7af7e898",
   "metadata": {},
   "outputs": [],
   "source": [
    "my_newlist[6] =300"
   ]
  },
  {
   "cell_type": "code",
   "execution_count": 203,
   "id": "361b2d03",
   "metadata": {},
   "outputs": [
    {
     "name": "stdout",
     "output_type": "stream",
     "text": [
      "[100, 19, 17, 15, 13, 11, 300, 5, 3, 1]\n",
      "[100, 19, 17, 15, 13, 11, 300, 5, 3, 1]\n"
     ]
    }
   ],
   "source": [
    "print(mylist_of_num)\n",
    "print(my_newlist)"
   ]
  },
  {
   "cell_type": "markdown",
   "id": "03568f37",
   "metadata": {},
   "source": [
    "## Cloning "
   ]
  },
  {
   "cell_type": "code",
   "execution_count": 204,
   "id": "7658cef2",
   "metadata": {},
   "outputs": [
    {
     "name": "stdout",
     "output_type": "stream",
     "text": [
      "[100, 19, 17, 15, 13, 11, 300, 5, 3, 1]\n"
     ]
    }
   ],
   "source": [
    "print(mylist_of_num)"
   ]
  },
  {
   "cell_type": "code",
   "execution_count": 208,
   "id": "fadda7c9",
   "metadata": {},
   "outputs": [],
   "source": [
    "my_newlist_num1 = mylist_of_num.copy()"
   ]
  },
  {
   "cell_type": "code",
   "execution_count": 209,
   "id": "985837aa",
   "metadata": {},
   "outputs": [
    {
     "name": "stdout",
     "output_type": "stream",
     "text": [
      "[100, 19, 17, 15, 13, 11, 300, 5, 3, 1]\n",
      "[100, 19, 17, 15, 13, 11, 300, 5, 3, 1]\n"
     ]
    }
   ],
   "source": [
    "print(mylist_of_num)\n",
    "print(my_newlist_num1)"
   ]
  },
  {
   "cell_type": "code",
   "execution_count": 210,
   "id": "670d71a1",
   "metadata": {},
   "outputs": [
    {
     "name": "stdout",
     "output_type": "stream",
     "text": [
      "2809002363584\n",
      "2809001855552\n"
     ]
    }
   ],
   "source": [
    "print(id(mylist_of_num))\n",
    "print(id(my_newlist_num1))"
   ]
  },
  {
   "cell_type": "code",
   "execution_count": 213,
   "id": "54f51b47",
   "metadata": {},
   "outputs": [],
   "source": [
    "my_newlist_num2 = mylist_of_num[:]"
   ]
  },
  {
   "cell_type": "code",
   "execution_count": 214,
   "id": "39073b37",
   "metadata": {},
   "outputs": [
    {
     "name": "stdout",
     "output_type": "stream",
     "text": [
      "[100, 19, 17, 15, 13, 11, 300, 5, 3, 1]\n",
      "[100, 19, 17, 15, 13, 11, 300, 5, 3, 1]\n",
      "[100, 19, 17, 15, 13, 11, 300, 5, 3, 1]\n"
     ]
    }
   ],
   "source": [
    "print(mylist_of_num)\n",
    "print(my_newlist_num1)\n",
    "print(my_newlist_num2)"
   ]
  },
  {
   "cell_type": "code",
   "execution_count": 215,
   "id": "4da21387",
   "metadata": {},
   "outputs": [
    {
     "name": "stdout",
     "output_type": "stream",
     "text": [
      "2809002363584\n",
      "2809001855552\n",
      "2809002390080\n"
     ]
    }
   ],
   "source": [
    "print(id(mylist_of_num))\n",
    "print(id(my_newlist_num1))\n",
    "print(id(my_newlist_num2))"
   ]
  },
  {
   "cell_type": "code",
   "execution_count": 216,
   "id": "8b779c15",
   "metadata": {},
   "outputs": [],
   "source": [
    "my_newlist_num1[5]=1000"
   ]
  },
  {
   "cell_type": "code",
   "execution_count": 217,
   "id": "66c612d2",
   "metadata": {},
   "outputs": [
    {
     "name": "stdout",
     "output_type": "stream",
     "text": [
      "[100, 19, 17, 15, 13, 11, 300, 5, 3, 1]\n",
      "[100, 19, 17, 15, 13, 1000, 300, 5, 3, 1]\n",
      "[100, 19, 17, 15, 13, 11, 300, 5, 3, 1]\n"
     ]
    }
   ],
   "source": [
    "print(mylist_of_num)\n",
    "print(my_newlist_num1)\n",
    "print(my_newlist_num2)"
   ]
  },
  {
   "cell_type": "markdown",
   "id": "c2e0930f",
   "metadata": {},
   "source": [
    "## List  Logical and Mathematical Operator"
   ]
  },
  {
   "cell_type": "code",
   "execution_count": 220,
   "id": "6db18aaa",
   "metadata": {},
   "outputs": [
    {
     "name": "stdout",
     "output_type": "stream",
     "text": [
      "False\n",
      "True\n"
     ]
    }
   ],
   "source": [
    "print(mylist_of_num == my_newlist_num1)\n",
    "print(mylist_of_num == my_newlist_num2)"
   ]
  },
  {
   "cell_type": "code",
   "execution_count": 221,
   "id": "a5dff2ae",
   "metadata": {},
   "outputs": [
    {
     "name": "stdout",
     "output_type": "stream",
     "text": [
      "True\n",
      "False\n"
     ]
    }
   ],
   "source": [
    "print(mylist_of_num != my_newlist_num1)\n",
    "print(mylist_of_num != my_newlist_num2)"
   ]
  },
  {
   "cell_type": "code",
   "execution_count": 224,
   "id": "b53311ef",
   "metadata": {},
   "outputs": [
    {
     "name": "stdout",
     "output_type": "stream",
     "text": [
      "True\n",
      "False\n",
      "True\n"
     ]
    }
   ],
   "source": [
    "print(mylist_of_num == my_newlist_num2) #checks whether elements are same\n",
    "print(mylist_of_num is my_newlist_num2) #checks whether objects are same\n",
    "print(mylist_of_num is my_newlist)"
   ]
  },
  {
   "cell_type": "code",
   "execution_count": 223,
   "id": "c3483ede",
   "metadata": {},
   "outputs": [
    {
     "name": "stdout",
     "output_type": "stream",
     "text": [
      "2809002363584\n",
      "2809001855552\n",
      "2809002363584\n"
     ]
    }
   ],
   "source": [
    "print(id(mylist_of_num))\n",
    "print(id(my_newlist_num1))\n",
    "print(id(my_newlist))"
   ]
  },
  {
   "cell_type": "code",
   "execution_count": 225,
   "id": "3765bd70",
   "metadata": {},
   "outputs": [
    {
     "name": "stdout",
     "output_type": "stream",
     "text": [
      "[100, 19, 17, 15, 13, 11, 300, 5, 3, 1]\n",
      "[100, 19, 17, 15, 13, 1000, 300, 5, 3, 1]\n",
      "[100, 19, 17, 15, 13, 11, 300, 5, 3, 1]\n"
     ]
    }
   ],
   "source": [
    "print(mylist_of_num)\n",
    "print(my_newlist_num1)\n",
    "print(my_newlist_num2)"
   ]
  },
  {
   "cell_type": "code",
   "execution_count": 247,
   "id": "b9d4af40",
   "metadata": {},
   "outputs": [
    {
     "name": "stdout",
     "output_type": "stream",
     "text": [
      "[10, 2, 3, 4, 5, 6, 7, 8, 9]\n",
      "[1, 3, 5, 7, 9]\n",
      "[10]\n"
     ]
    }
   ],
   "source": [
    "#When ever we are using relatational Operators (<, <=, >, >=) between List Objects, only 1ST Element comparison will be performed.\n",
    "list1 = list(range(1,10,1))\n",
    "list1[0]=10\n",
    "list2 = list(range(1,10,2))\n",
    "list3 = [10]\n",
    "print(list1)\n",
    "print(list2)\n",
    "print(list3)"
   ]
  },
  {
   "cell_type": "code",
   "execution_count": 250,
   "id": "6fcb5d76",
   "metadata": {},
   "outputs": [
    {
     "name": "stdout",
     "output_type": "stream",
     "text": [
      "True\n",
      "False\n"
     ]
    }
   ],
   "source": [
    "print(list1 > list3)\n",
    "print(list1 < list3)"
   ]
  },
  {
   "cell_type": "code",
   "execution_count": 227,
   "id": "1edf361b",
   "metadata": {},
   "outputs": [
    {
     "name": "stdout",
     "output_type": "stream",
     "text": [
      "[100, 19, 17, 15, 13, 11, 300, 5, 3, 1, 100, 19, 17, 15, 13, 1000, 300, 5, 3, 1]\n"
     ]
    }
   ],
   "source": [
    "a = mylist_of_num + my_newlist_num1 #this will append two list together\n",
    "print(a)"
   ]
  },
  {
   "cell_type": "code",
   "execution_count": 230,
   "id": "44dd4777",
   "metadata": {},
   "outputs": [
    {
     "name": "stdout",
     "output_type": "stream",
     "text": [
      "[100, 19, 17, 15, 13, 11, 300, 5, 3, 1, 100, 19, 17, 15, 13, 11, 300, 5, 3, 1, 100, 19, 17, 15, 13, 11, 300, 5, 3, 1, 100, 19, 17, 15, 13, 11, 300, 5, 3, 1, 100, 19, 17, 15, 13, 11, 300, 5, 3, 1, 100, 19, 17, 15, 13, 11, 300, 5, 3, 1, 100, 19, 17, 15, 13, 11, 300, 5, 3, 1, 100, 19, 17, 15, 13, 11, 300, 5, 3, 1, 100, 19, 17, 15, 13, 11, 300, 5, 3, 1, 100, 19, 17, 15, 13, 11, 300, 5, 3, 1]\n"
     ]
    }
   ],
   "source": [
    "b = mylist_of_num * 10 #this repeats same list for number of time \n",
    "print(b)"
   ]
  },
  {
   "cell_type": "code",
   "execution_count": 231,
   "id": "ca8517ec",
   "metadata": {},
   "outputs": [
    {
     "name": "stdout",
     "output_type": "stream",
     "text": [
      "False\n"
     ]
    }
   ],
   "source": [
    "print ( 10 in mylist_of_num)"
   ]
  },
  {
   "cell_type": "code",
   "execution_count": 232,
   "id": "be905009",
   "metadata": {},
   "outputs": [
    {
     "name": "stdout",
     "output_type": "stream",
     "text": [
      "['L', 'L', 'O', 'W', '9', '9', 'Z', 2, 1, 'Y', 4, 8, [1, 2], 'B', 'A', 4, 'A', 1, 'X', 4, 8, [1, 2], 'B', 4, 1, 'X', ['and', 'I', 'am', 'very', 'Alone'], ['Arnab', 'Bhowmik'], ['my', 'name', 'is']]\n"
     ]
    }
   ],
   "source": [
    "print(mynestedlist)"
   ]
  },
  {
   "cell_type": "code",
   "execution_count": 234,
   "id": "ed232f24",
   "metadata": {},
   "outputs": [
    {
     "name": "stdout",
     "output_type": "stream",
     "text": [
      "True\n"
     ]
    }
   ],
   "source": [
    "print ( ['Arnab', 'Bhowmik'] in mynestedlist)"
   ]
  },
  {
   "cell_type": "markdown",
   "id": "8a8210bb",
   "metadata": {},
   "source": [
    "# Tuple"
   ]
  },
  {
   "cell_type": "code",
   "execution_count": 9,
   "id": "507264d7",
   "metadata": {},
   "outputs": [],
   "source": [
    "#creation of Tuple"
   ]
  },
  {
   "cell_type": "code",
   "execution_count": 11,
   "id": "2c5ee88f",
   "metadata": {},
   "outputs": [
    {
     "name": "stdout",
     "output_type": "stream",
     "text": [
      "()\n"
     ]
    }
   ],
   "source": [
    "my_tuple=()\n",
    "print(my_tuple)"
   ]
  },
  {
   "cell_type": "code",
   "execution_count": 81,
   "id": "8ad2205f",
   "metadata": {},
   "outputs": [
    {
     "name": "stdout",
     "output_type": "stream",
     "text": [
      "(1, 'A', 'B', (1, 2), {1, 42, 'A'}, [1, 2, 5])\n",
      "<class 'tuple'>\n"
     ]
    }
   ],
   "source": [
    "#CREATE A mylist with known elements\n",
    "my_tuple = (1,\"A\",'B',(1,2),{1,42,'A'},[1,2,5])\n",
    "print(my_tuple)\n",
    "print(type(my_tuple))"
   ]
  },
  {
   "cell_type": "code",
   "execution_count": 13,
   "id": "7ed534a9",
   "metadata": {},
   "outputs": [
    {
     "name": "stdout",
     "output_type": "stream",
     "text": [
      "(1, 2, 2, 3, 'A', 'D')\n"
     ]
    }
   ],
   "source": [
    "my_tuple = (1,2,2,3,'A','D')\n",
    "print(my_tuple)"
   ]
  },
  {
   "cell_type": "code",
   "execution_count": 14,
   "id": "523d79ae",
   "metadata": {},
   "outputs": [
    {
     "name": "stdout",
     "output_type": "stream",
     "text": [
      "(1, 2, 2, 3, 'A', 'D')\n"
     ]
    }
   ],
   "source": [
    "my_tuple = 1,2,2,3,'A','D'\n",
    "print(my_tuple)"
   ]
  },
  {
   "cell_type": "code",
   "execution_count": 17,
   "id": "353fc6a4",
   "metadata": {},
   "outputs": [
    {
     "name": "stdout",
     "output_type": "stream",
     "text": [
      "<class 'int'>\n"
     ]
    }
   ],
   "source": [
    "my_tuple = 1\n",
    "print(type(my_tuple))"
   ]
  },
  {
   "cell_type": "code",
   "execution_count": 16,
   "id": "a1d9d326",
   "metadata": {},
   "outputs": [
    {
     "name": "stdout",
     "output_type": "stream",
     "text": [
      "<class 'tuple'>\n"
     ]
    }
   ],
   "source": [
    "my_tuple = 1,\n",
    "print(type(my_tuple))"
   ]
  },
  {
   "cell_type": "code",
   "execution_count": 27,
   "id": "9e94b807",
   "metadata": {},
   "outputs": [
    {
     "name": "stdout",
     "output_type": "stream",
     "text": [
      "(1, 4, 7, 10, 13, 16, 19)\n"
     ]
    }
   ],
   "source": [
    "my_tuple =tuple(range(1,20,3))\n",
    "print(my_tuple)"
   ]
  },
  {
   "cell_type": "code",
   "execution_count": 26,
   "id": "e16b83bb",
   "metadata": {},
   "outputs": [
    {
     "name": "stdout",
     "output_type": "stream",
     "text": [
      "enter a Tuple:('a',1,2,'b',)\n",
      "('a', 1, 2, 'b')\n",
      "<class 'tuple'>\n"
     ]
    }
   ],
   "source": [
    "#CREATE A tuple with dynamic input with Eval\n",
    "mytuple = eval(input(\"enter a Tuple:\"))\n",
    "print(mytuple)\n",
    "print(type(mytuple))"
   ]
  },
  {
   "cell_type": "code",
   "execution_count": 36,
   "id": "41e43db6",
   "metadata": {},
   "outputs": [
    {
     "name": "stdout",
     "output_type": "stream",
     "text": [
      "[1, 4, 7, 10, 13, 16, 19]\n",
      "(1, 4, 7, 10, 13, 16, 19)\n"
     ]
    }
   ],
   "source": [
    "#Create Tuple from a list\n",
    "my_list =list(range(1,20,3))\n",
    "print(my_list)\n",
    "my_tuple = tuple(my_list)\n",
    "print(my_tuple)"
   ]
  },
  {
   "cell_type": "markdown",
   "id": "7659573b",
   "metadata": {},
   "source": [
    "### Tuple Packing and unpacking"
   ]
  },
  {
   "cell_type": "code",
   "execution_count": 19,
   "id": "62c2a9a2",
   "metadata": {},
   "outputs": [],
   "source": [
    "def math(a,b):\n",
    "    sum_r = a+b\n",
    "    minus_r = a-b\n",
    "    multiply_r = a*b\n",
    "    divide_r = a/b\n",
    "    return sum_r,minus_r,multiply_r,divide_r"
   ]
  },
  {
   "cell_type": "code",
   "execution_count": 20,
   "id": "1c33c983",
   "metadata": {},
   "outputs": [
    {
     "name": "stdout",
     "output_type": "stream",
     "text": [
      "Sum is 30, minus is -10, multiplication is 200, divide is 0.5\n"
     ]
    }
   ],
   "source": [
    "w,x,y,z = math(10,20)\n",
    "print('Sum is {}, minus is {}, multiplication is {}, divide is {}'.format(w,x,y,z))"
   ]
  },
  {
   "cell_type": "code",
   "execution_count": 21,
   "id": "db80f81c",
   "metadata": {},
   "outputs": [
    {
     "data": {
      "text/plain": [
       "30"
      ]
     },
     "execution_count": 21,
     "metadata": {},
     "output_type": "execute_result"
    }
   ],
   "source": [
    "w"
   ]
  },
  {
   "cell_type": "markdown",
   "id": "66c7f170",
   "metadata": {},
   "source": [
    "### Traversing element from Tuple"
   ]
  },
  {
   "cell_type": "code",
   "execution_count": 28,
   "id": "d46932c8",
   "metadata": {},
   "outputs": [
    {
     "data": {
      "text/plain": [
       "(1, 4, 7, 10, 13, 16, 19)"
      ]
     },
     "execution_count": 28,
     "metadata": {},
     "output_type": "execute_result"
    }
   ],
   "source": [
    "my_tuple"
   ]
  },
  {
   "cell_type": "code",
   "execution_count": 31,
   "id": "c447260a",
   "metadata": {},
   "outputs": [
    {
     "name": "stdout",
     "output_type": "stream",
     "text": [
      "(1, 4, 7, 10, 13, 16, 19)\n",
      "value 1 present in positive index 0 and negative index 7\n",
      "value 4 present in positive index 1 and negative index 6\n",
      "value 7 present in positive index 2 and negative index 5\n",
      "value 10 present in positive index 3 and negative index 4\n",
      "value 13 present in positive index 4 and negative index 3\n",
      "value 16 present in positive index 5 and negative index 2\n",
      "value 19 present in positive index 6 and negative index 1\n"
     ]
    }
   ],
   "source": [
    "tuple_len =len(my_tuple)\n",
    "print(my_tuple)\n",
    "l=0\n",
    "while l < tuple_len:\n",
    "    print(\"value {} present in positive index {} and negative index {}\".format(my_tuple[l],l,(tuple_len-l)))\n",
    "    l= l+1  "
   ]
  },
  {
   "cell_type": "code",
   "execution_count": 32,
   "id": "50cf97d4",
   "metadata": {},
   "outputs": [
    {
     "name": "stdout",
     "output_type": "stream",
     "text": [
      "1\n",
      "4\n",
      "7\n",
      "10\n",
      "13\n",
      "16\n",
      "19\n"
     ]
    }
   ],
   "source": [
    "for t in my_tuple:\n",
    "    print(t)"
   ]
  },
  {
   "cell_type": "markdown",
   "id": "62b72f3e",
   "metadata": {},
   "source": [
    "### Accessing and slicing element from Tuple"
   ]
  },
  {
   "cell_type": "code",
   "execution_count": 33,
   "id": "b724df43",
   "metadata": {},
   "outputs": [
    {
     "data": {
      "text/plain": [
       "(1, 4, 7, 10, 13, 16, 19)"
      ]
     },
     "execution_count": 33,
     "metadata": {},
     "output_type": "execute_result"
    }
   ],
   "source": [
    "my_tuple"
   ]
  },
  {
   "cell_type": "code",
   "execution_count": 38,
   "id": "9396ab47",
   "metadata": {},
   "outputs": [
    {
     "data": {
      "text/plain": [
       "4"
      ]
     },
     "execution_count": 38,
     "metadata": {},
     "output_type": "execute_result"
    }
   ],
   "source": [
    "my_tuple[1]"
   ]
  },
  {
   "cell_type": "code",
   "execution_count": 39,
   "id": "30abea29",
   "metadata": {},
   "outputs": [
    {
     "data": {
      "text/plain": [
       "19"
      ]
     },
     "execution_count": 39,
     "metadata": {},
     "output_type": "execute_result"
    }
   ],
   "source": [
    "my_tuple[-1]"
   ]
  },
  {
   "cell_type": "code",
   "execution_count": 46,
   "id": "71364b2d",
   "metadata": {},
   "outputs": [
    {
     "data": {
      "text/plain": [
       "(7, 10, 13)"
      ]
     },
     "execution_count": 46,
     "metadata": {},
     "output_type": "execute_result"
    }
   ],
   "source": [
    "my_tuple[2:5]"
   ]
  },
  {
   "cell_type": "code",
   "execution_count": 44,
   "id": "10b2329c",
   "metadata": {},
   "outputs": [
    {
     "data": {
      "text/plain": [
       "7"
      ]
     },
     "execution_count": 44,
     "metadata": {},
     "output_type": "execute_result"
    }
   ],
   "source": [
    "len(my_tuple)"
   ]
  },
  {
   "cell_type": "code",
   "execution_count": 47,
   "id": "d0b7fae1",
   "metadata": {},
   "outputs": [
    {
     "ename": "IndexError",
     "evalue": "tuple index out of range",
     "output_type": "error",
     "traceback": [
      "\u001b[1;31m---------------------------------------------------------------------------\u001b[0m",
      "\u001b[1;31mIndexError\u001b[0m                                Traceback (most recent call last)",
      "\u001b[1;32m<ipython-input-47-7948e8c2169c>\u001b[0m in \u001b[0;36m<module>\u001b[1;34m\u001b[0m\n\u001b[1;32m----> 1\u001b[1;33m \u001b[0mmy_tuple\u001b[0m\u001b[1;33m[\u001b[0m\u001b[1;36m10\u001b[0m\u001b[1;33m]\u001b[0m\u001b[1;33m\u001b[0m\u001b[1;33m\u001b[0m\u001b[0m\n\u001b[0m",
      "\u001b[1;31mIndexError\u001b[0m: tuple index out of range"
     ]
    }
   ],
   "source": [
    "my_tuple[10]"
   ]
  },
  {
   "cell_type": "code",
   "execution_count": 48,
   "id": "5ae51708",
   "metadata": {},
   "outputs": [
    {
     "data": {
      "text/plain": [
       "(4, 7, 10, 13, 16, 19)"
      ]
     },
     "execution_count": 48,
     "metadata": {},
     "output_type": "execute_result"
    }
   ],
   "source": [
    "my_tuple[1:10]"
   ]
  },
  {
   "cell_type": "markdown",
   "id": "4e56f4e8",
   "metadata": {},
   "source": [
    "### Sorting a Tuple "
   ]
  },
  {
   "cell_type": "code",
   "execution_count": 60,
   "id": "4c9c054f",
   "metadata": {},
   "outputs": [
    {
     "data": {
      "text/plain": [
       "(1, 4, 7, 10, 13, 16, 19)"
      ]
     },
     "execution_count": 60,
     "metadata": {},
     "output_type": "execute_result"
    }
   ],
   "source": [
    "my_tuple"
   ]
  },
  {
   "cell_type": "code",
   "execution_count": 61,
   "id": "e531ccb8",
   "metadata": {},
   "outputs": [
    {
     "name": "stdout",
     "output_type": "stream",
     "text": [
      "[19, 16, 13, 10, 7, 4, 1]\n",
      "(1, 4, 7, 10, 13, 16, 19)\n"
     ]
    }
   ],
   "source": [
    "#we can apply sort on Tuple but return type is List\n",
    "mytuple_desc = sorted(my_tuple, reverse = True)\n",
    "print(mytuple_desc)\n",
    "print(my_tuple)"
   ]
  },
  {
   "cell_type": "markdown",
   "id": "066e5482",
   "metadata": {},
   "source": [
    "### Logical Operator in Tuple "
   ]
  },
  {
   "cell_type": "code",
   "execution_count": 64,
   "id": "be90c1e2",
   "metadata": {},
   "outputs": [],
   "source": [
    "t1=(10,20,30)  \n",
    "t2=(40,50,60)\n",
    "t3=(10,20,30)\n",
    "t4=(4,10,20,30)"
   ]
  },
  {
   "cell_type": "code",
   "execution_count": 69,
   "id": "f4652ee0",
   "metadata": {},
   "outputs": [
    {
     "name": "stdout",
     "output_type": "stream",
     "text": [
      "False\n",
      "True\n",
      "True\n",
      "True\n"
     ]
    }
   ],
   "source": [
    "print(t1==t2) \n",
    "print(t1 >= t3)\n",
    "print(t2 > t3)\n",
    "print(t1 != t4)"
   ]
  },
  {
   "cell_type": "markdown",
   "id": "e4590674",
   "metadata": {},
   "source": [
    "### Math Operator "
   ]
  },
  {
   "cell_type": "code",
   "execution_count": 70,
   "id": "b6f0d6b4",
   "metadata": {},
   "outputs": [
    {
     "name": "stdout",
     "output_type": "stream",
     "text": [
      "(1, 4, 7, 10, 13, 16, 19)\n"
     ]
    }
   ],
   "source": [
    "print(my_tuple)"
   ]
  },
  {
   "cell_type": "code",
   "execution_count": 71,
   "id": "cdee6858",
   "metadata": {},
   "outputs": [
    {
     "data": {
      "text/plain": [
       "70"
      ]
     },
     "execution_count": 71,
     "metadata": {},
     "output_type": "execute_result"
    }
   ],
   "source": [
    "sum(my_tuple)"
   ]
  },
  {
   "cell_type": "code",
   "execution_count": 72,
   "id": "5de08cef",
   "metadata": {},
   "outputs": [
    {
     "data": {
      "text/plain": [
       "1"
      ]
     },
     "execution_count": 72,
     "metadata": {},
     "output_type": "execute_result"
    }
   ],
   "source": [
    "min(my_tuple)"
   ]
  },
  {
   "cell_type": "code",
   "execution_count": 73,
   "id": "0469b99a",
   "metadata": {},
   "outputs": [
    {
     "data": {
      "text/plain": [
       "19"
      ]
     },
     "execution_count": 73,
     "metadata": {},
     "output_type": "execute_result"
    }
   ],
   "source": [
    "max(my_tuple)"
   ]
  },
  {
   "cell_type": "markdown",
   "id": "b542bd2a",
   "metadata": {},
   "source": [
    "### Edit Value of List element in a Tuple"
   ]
  },
  {
   "cell_type": "code",
   "execution_count": 82,
   "id": "bd7ebf36",
   "metadata": {},
   "outputs": [
    {
     "name": "stdout",
     "output_type": "stream",
     "text": [
      "enter a Tuple:(1, 'A', 'B', (1, 2), {1, 42, 'A'}, [1, 2, 5])\n",
      "(1, 'A', 'B', (1, 2), {1, 42, 'A'}, [1, 2, 5])\n",
      "<class 'tuple'>\n"
     ]
    }
   ],
   "source": [
    "my_editable_tuple = eval(input(\"enter a Tuple:\"))\n",
    "print(my_editable_tuple)\n",
    "print(type(my_editable_tuple))"
   ]
  },
  {
   "cell_type": "code",
   "execution_count": 83,
   "id": "2870003e",
   "metadata": {},
   "outputs": [
    {
     "data": {
      "text/plain": [
       "(1, 'A', 'B', (1, 2), {1, 42, 'A'}, [1, 2, 5])"
      ]
     },
     "execution_count": 83,
     "metadata": {},
     "output_type": "execute_result"
    }
   ],
   "source": [
    "my_editable_tuple"
   ]
  },
  {
   "cell_type": "code",
   "execution_count": 84,
   "id": "85f3dc4b",
   "metadata": {},
   "outputs": [
    {
     "data": {
      "text/plain": [
       "[1, 2, 5]"
      ]
     },
     "execution_count": 84,
     "metadata": {},
     "output_type": "execute_result"
    }
   ],
   "source": [
    "my_editable_tuple[5]"
   ]
  },
  {
   "cell_type": "code",
   "execution_count": 85,
   "id": "8ac9d123",
   "metadata": {},
   "outputs": [
    {
     "data": {
      "text/plain": [
       "2"
      ]
     },
     "execution_count": 85,
     "metadata": {},
     "output_type": "execute_result"
    }
   ],
   "source": [
    "my_editable_tuple[5][1] "
   ]
  },
  {
   "cell_type": "code",
   "execution_count": 86,
   "id": "d3cf59de",
   "metadata": {},
   "outputs": [],
   "source": [
    "my_editable_tuple[5][1] =6"
   ]
  },
  {
   "cell_type": "code",
   "execution_count": 87,
   "id": "3f0c8dee",
   "metadata": {},
   "outputs": [
    {
     "data": {
      "text/plain": [
       "(1, 'A', 'B', (1, 2), {1, 42, 'A'}, [1, 6, 5])"
      ]
     },
     "execution_count": 87,
     "metadata": {},
     "output_type": "execute_result"
    }
   ],
   "source": [
    "my_editable_tuple"
   ]
  },
  {
   "cell_type": "code",
   "execution_count": 91,
   "id": "c8b2e939",
   "metadata": {},
   "outputs": [
    {
     "name": "stdout",
     "output_type": "stream",
     "text": [
      "{1, 42, 'A'}\n"
     ]
    }
   ],
   "source": [
    "print(my_editable_tuple[4])"
   ]
  },
  {
   "cell_type": "markdown",
   "id": "1b1f1a4e",
   "metadata": {},
   "source": [
    "# Set "
   ]
  },
  {
   "cell_type": "markdown",
   "id": "6152bcc2",
   "metadata": {},
   "source": [
    "### Create a set"
   ]
  },
  {
   "cell_type": "code",
   "execution_count": 92,
   "id": "b4d93d6a",
   "metadata": {},
   "outputs": [
    {
     "name": "stdout",
     "output_type": "stream",
     "text": [
      "{}\n",
      "<class 'dict'>\n"
     ]
    }
   ],
   "source": [
    "# can't create blank set with {}\n",
    "my_set={}\n",
    "print(my_set)\n",
    "print(type(my_set))"
   ]
  },
  {
   "cell_type": "code",
   "execution_count": 93,
   "id": "d1293f9b",
   "metadata": {},
   "outputs": [
    {
     "name": "stdout",
     "output_type": "stream",
     "text": [
      "set()\n",
      "<class 'set'>\n"
     ]
    }
   ],
   "source": [
    "my_set=set()\n",
    "print(my_set)\n",
    "print(type(my_set))"
   ]
  },
  {
   "cell_type": "code",
   "execution_count": 99,
   "id": "56a1eddb",
   "metadata": {},
   "outputs": [
    {
     "name": "stdout",
     "output_type": "stream",
     "text": [
      "enter a Set:{1, 'A', 'B', (1, 2),[1, 2, 5]}\n"
     ]
    },
    {
     "ename": "TypeError",
     "evalue": "unhashable type: 'list'",
     "output_type": "error",
     "traceback": [
      "\u001b[1;31m---------------------------------------------------------------------------\u001b[0m",
      "\u001b[1;31mTypeError\u001b[0m                                 Traceback (most recent call last)",
      "\u001b[1;32m<ipython-input-99-4d9dae5b2323>\u001b[0m in \u001b[0;36m<module>\u001b[1;34m\u001b[0m\n\u001b[1;32m----> 1\u001b[1;33m \u001b[0mmyset\u001b[0m \u001b[1;33m=\u001b[0m \u001b[0meval\u001b[0m\u001b[1;33m(\u001b[0m\u001b[0minput\u001b[0m\u001b[1;33m(\u001b[0m\u001b[1;34m\"enter a Set:\"\u001b[0m\u001b[1;33m)\u001b[0m\u001b[1;33m)\u001b[0m\u001b[1;33m\u001b[0m\u001b[1;33m\u001b[0m\u001b[0m\n\u001b[0m\u001b[0;32m      2\u001b[0m \u001b[0mprint\u001b[0m\u001b[1;33m(\u001b[0m\u001b[0mmyset\u001b[0m\u001b[1;33m)\u001b[0m\u001b[1;33m\u001b[0m\u001b[1;33m\u001b[0m\u001b[0m\n\u001b[0;32m      3\u001b[0m \u001b[0mprint\u001b[0m\u001b[1;33m(\u001b[0m\u001b[0mtype\u001b[0m\u001b[1;33m(\u001b[0m\u001b[0mmyset\u001b[0m\u001b[1;33m)\u001b[0m\u001b[1;33m)\u001b[0m\u001b[1;33m\u001b[0m\u001b[1;33m\u001b[0m\u001b[0m\n",
      "\u001b[1;32m<string>\u001b[0m in \u001b[0;36m<module>\u001b[1;34m\u001b[0m\n",
      "\u001b[1;31mTypeError\u001b[0m: unhashable type: 'list'"
     ]
    }
   ],
   "source": [
    "myset = eval(input(\"enter a Set:\"))\n",
    "print(myset)\n",
    "print(type(myset))"
   ]
  },
  {
   "cell_type": "code",
   "execution_count": 94,
   "id": "a199d69f",
   "metadata": {},
   "outputs": [
    {
     "name": "stdout",
     "output_type": "stream",
     "text": [
      "enter a Set:{1, 'A', 'B', (1, 2), {1, 42, 'A'}, [1, 2, 5]}\n"
     ]
    },
    {
     "ename": "TypeError",
     "evalue": "unhashable type: 'set'",
     "output_type": "error",
     "traceback": [
      "\u001b[1;31m---------------------------------------------------------------------------\u001b[0m",
      "\u001b[1;31mTypeError\u001b[0m                                 Traceback (most recent call last)",
      "\u001b[1;32m<ipython-input-94-866e1ee694b9>\u001b[0m in \u001b[0;36m<module>\u001b[1;34m\u001b[0m\n\u001b[1;32m----> 1\u001b[1;33m \u001b[0mmy_set\u001b[0m \u001b[1;33m=\u001b[0m \u001b[0meval\u001b[0m\u001b[1;33m(\u001b[0m\u001b[0minput\u001b[0m\u001b[1;33m(\u001b[0m\u001b[1;34m\"enter a Set:\"\u001b[0m\u001b[1;33m)\u001b[0m\u001b[1;33m)\u001b[0m\u001b[1;33m\u001b[0m\u001b[1;33m\u001b[0m\u001b[0m\n\u001b[0m\u001b[0;32m      2\u001b[0m \u001b[0mprint\u001b[0m\u001b[1;33m(\u001b[0m\u001b[0mmy_set\u001b[0m\u001b[1;33m)\u001b[0m\u001b[1;33m\u001b[0m\u001b[1;33m\u001b[0m\u001b[0m\n\u001b[0;32m      3\u001b[0m \u001b[0mprint\u001b[0m\u001b[1;33m(\u001b[0m\u001b[0mtype\u001b[0m\u001b[1;33m(\u001b[0m\u001b[0mmy_set\u001b[0m\u001b[1;33m)\u001b[0m\u001b[1;33m)\u001b[0m\u001b[1;33m\u001b[0m\u001b[1;33m\u001b[0m\u001b[0m\n",
      "\u001b[1;32m<string>\u001b[0m in \u001b[0;36m<module>\u001b[1;34m\u001b[0m\n",
      "\u001b[1;31mTypeError\u001b[0m: unhashable type: 'set'"
     ]
    }
   ],
   "source": [
    "my_set = eval(input(\"enter a Set:\"))\n",
    "print(my_set)\n",
    "print(type(my_set))"
   ]
  },
  {
   "cell_type": "code",
   "execution_count": 101,
   "id": "0c0d36ea",
   "metadata": {},
   "outputs": [
    {
     "name": "stdout",
     "output_type": "stream",
     "text": [
      "enter a Set:{1,'A','B',(1,2,3)}\n",
      "{1, (1, 2, 3), 'B', 'A'}\n",
      "<class 'set'>\n"
     ]
    }
   ],
   "source": [
    "myset = eval(input(\"enter a Set:\"))\n",
    "print(myset)\n",
    "print(type(myset))"
   ]
  },
  {
   "cell_type": "code",
   "execution_count": 169,
   "id": "cda15deb",
   "metadata": {},
   "outputs": [
    {
     "name": "stdout",
     "output_type": "stream",
     "text": [
      "{40, 10, 20, 30}\n",
      "<class 'set'>\n"
     ]
    }
   ],
   "source": [
    "my_set = {40, 10, 20, 30}\n",
    "print(my_set)\n",
    "print(type(my_set))"
   ]
  },
  {
   "cell_type": "code",
   "execution_count": 170,
   "id": "0e3f137a",
   "metadata": {},
   "outputs": [
    {
     "data": {
      "text/plain": [
       "[1, 5, 9, 13, 17]"
      ]
     },
     "execution_count": 170,
     "metadata": {},
     "output_type": "execute_result"
    }
   ],
   "source": [
    "my_list = list(range(1,20,4))\n",
    "my_list"
   ]
  },
  {
   "cell_type": "code",
   "execution_count": 171,
   "id": "2fd6b7cf",
   "metadata": {},
   "outputs": [
    {
     "data": {
      "text/plain": [
       "(1, 4, 7, 10, 13, 16, 19)"
      ]
     },
     "execution_count": 171,
     "metadata": {},
     "output_type": "execute_result"
    }
   ],
   "source": [
    "my_tuple = tuple(range(1,20,3))\n",
    "my_tuple"
   ]
  },
  {
   "cell_type": "code",
   "execution_count": 172,
   "id": "076ef456",
   "metadata": {},
   "outputs": [
    {
     "name": "stdout",
     "output_type": "stream",
     "text": [
      "[1, 5, 9, 13, 17]\n",
      "{1, 5, 9, 13, 17}\n",
      "(1, 4, 7, 10, 13, 16, 19)\n",
      "{1, 4, 7, 10, 13, 16, 19}\n"
     ]
    }
   ],
   "source": [
    "my_set1=set(my_list)\n",
    "print(my_list)\n",
    "print(my_set1)\n",
    "my_set2=set(my_tuple)\n",
    "print(my_tuple)\n",
    "print(my_set2)"
   ]
  },
  {
   "cell_type": "code",
   "execution_count": 148,
   "id": "7cf1215a",
   "metadata": {},
   "outputs": [
    {
     "ename": "TypeError",
     "evalue": "unhashable type: 'set'",
     "output_type": "error",
     "traceback": [
      "\u001b[1;31m---------------------------------------------------------------------------\u001b[0m",
      "\u001b[1;31mTypeError\u001b[0m                                 Traceback (most recent call last)",
      "\u001b[1;32m<ipython-input-148-8a54249cf679>\u001b[0m in \u001b[0;36m<module>\u001b[1;34m\u001b[0m\n\u001b[1;32m----> 1\u001b[1;33m \u001b[0mhash\u001b[0m\u001b[1;33m(\u001b[0m\u001b[0mmy_set1\u001b[0m\u001b[1;33m)\u001b[0m\u001b[1;33m\u001b[0m\u001b[1;33m\u001b[0m\u001b[0m\n\u001b[0m",
      "\u001b[1;31mTypeError\u001b[0m: unhashable type: 'set'"
     ]
    }
   ],
   "source": [
    "hash(my_set1)"
   ]
  },
  {
   "cell_type": "code",
   "execution_count": 149,
   "id": "04e745ab",
   "metadata": {},
   "outputs": [
    {
     "ename": "TypeError",
     "evalue": "unhashable type: 'list'",
     "output_type": "error",
     "traceback": [
      "\u001b[1;31m---------------------------------------------------------------------------\u001b[0m",
      "\u001b[1;31mTypeError\u001b[0m                                 Traceback (most recent call last)",
      "\u001b[1;32m<ipython-input-149-69234c8cb7f3>\u001b[0m in \u001b[0;36m<module>\u001b[1;34m\u001b[0m\n\u001b[1;32m----> 1\u001b[1;33m \u001b[0mhash\u001b[0m\u001b[1;33m(\u001b[0m\u001b[0mmy_list\u001b[0m\u001b[1;33m)\u001b[0m\u001b[1;33m\u001b[0m\u001b[1;33m\u001b[0m\u001b[0m\n\u001b[0m",
      "\u001b[1;31mTypeError\u001b[0m: unhashable type: 'list'"
     ]
    }
   ],
   "source": [
    "hash(my_list)"
   ]
  },
  {
   "cell_type": "code",
   "execution_count": 150,
   "id": "0243f8ea",
   "metadata": {},
   "outputs": [
    {
     "data": {
      "text/plain": [
       "251364653479942311"
      ]
     },
     "execution_count": 150,
     "metadata": {},
     "output_type": "execute_result"
    }
   ],
   "source": [
    "hash(my_tuple)"
   ]
  },
  {
   "cell_type": "markdown",
   "id": "e531ab11",
   "metadata": {},
   "source": [
    "### Modify a Set"
   ]
  },
  {
   "cell_type": "code",
   "execution_count": 151,
   "id": "96274194",
   "metadata": {},
   "outputs": [
    {
     "name": "stdout",
     "output_type": "stream",
     "text": [
      "{40, 10, 20, 30}\n",
      "[1, 5, 9, 13, 17]\n",
      "(1, 4, 7, 10, 13, 16, 19)\n"
     ]
    }
   ],
   "source": [
    "print(myset)\n",
    "print(my_list)\n",
    "print(my_tuple)"
   ]
  },
  {
   "cell_type": "code",
   "execution_count": 152,
   "id": "0279f3ed",
   "metadata": {},
   "outputs": [
    {
     "name": "stdout",
     "output_type": "stream",
     "text": [
      "{100, 40, 10, 20, 30}\n"
     ]
    }
   ],
   "source": [
    "myset.add(100) #adds single element\n",
    "print(myset)"
   ]
  },
  {
   "cell_type": "code",
   "execution_count": 153,
   "id": "eee232e6",
   "metadata": {},
   "outputs": [
    {
     "ename": "TypeError",
     "evalue": "add() takes exactly one argument (2 given)",
     "output_type": "error",
     "traceback": [
      "\u001b[1;31m---------------------------------------------------------------------------\u001b[0m",
      "\u001b[1;31mTypeError\u001b[0m                                 Traceback (most recent call last)",
      "\u001b[1;32m<ipython-input-153-dc4d301b1d0a>\u001b[0m in \u001b[0;36m<module>\u001b[1;34m\u001b[0m\n\u001b[1;32m----> 1\u001b[1;33m \u001b[0mmyset\u001b[0m\u001b[1;33m.\u001b[0m\u001b[0madd\u001b[0m\u001b[1;33m(\u001b[0m\u001b[1;36m1\u001b[0m\u001b[1;33m,\u001b[0m\u001b[1;36m2\u001b[0m\u001b[1;33m)\u001b[0m\u001b[1;33m\u001b[0m\u001b[1;33m\u001b[0m\u001b[0m\n\u001b[0m\u001b[0;32m      2\u001b[0m \u001b[0mprint\u001b[0m\u001b[1;33m(\u001b[0m\u001b[0mmyset\u001b[0m\u001b[1;33m)\u001b[0m\u001b[1;33m\u001b[0m\u001b[1;33m\u001b[0m\u001b[0m\n",
      "\u001b[1;31mTypeError\u001b[0m: add() takes exactly one argument (2 given)"
     ]
    }
   ],
   "source": [
    "myset.add(1,2)\n",
    "print(myset)"
   ]
  },
  {
   "cell_type": "code",
   "execution_count": 154,
   "id": "2f88e834",
   "metadata": {},
   "outputs": [
    {
     "name": "stdout",
     "output_type": "stream",
     "text": [
      "[1, 5, 9, 13, 17]\n",
      "(1, 4, 7, 10, 13, 16, 19)\n"
     ]
    }
   ],
   "source": [
    "print(my_list)\n",
    "print(my_tuple)"
   ]
  },
  {
   "cell_type": "code",
   "execution_count": 155,
   "id": "60491420",
   "metadata": {},
   "outputs": [
    {
     "name": "stdout",
     "output_type": "stream",
     "text": [
      "{(1, 2), 100, 40, 10, 20, 30}\n"
     ]
    }
   ],
   "source": [
    "myset.add((1,2))\n",
    "print(myset)"
   ]
  },
  {
   "cell_type": "code",
   "execution_count": 156,
   "id": "e0dfc2c5",
   "metadata": {},
   "outputs": [
    {
     "name": "stdout",
     "output_type": "stream",
     "text": [
      "{1, (1, 2), 100, 5, 4, 7, 40, 9, 10, 200, 300, 13, 16, 17, 400, 19, 20, 30}\n"
     ]
    }
   ],
   "source": [
    "myset.update(my_list,my_tuple,range(100,500,100)) #add multiple element together but element needs to be iterable object\n",
    "print(myset) # Set does not allow duplicate"
   ]
  },
  {
   "cell_type": "code",
   "execution_count": 157,
   "id": "25f0837c",
   "metadata": {},
   "outputs": [
    {
     "name": "stdout",
     "output_type": "stream",
     "text": [
      "[1, 5, 9, 13, 17]\n",
      "{1, (1, 2), 100, 5, 4, 7, 40, 9, 10, 200, 300, 13, 16, 17, 400, 19, 20, 30}\n"
     ]
    }
   ],
   "source": [
    "print(my_list)\n",
    "print(myset)"
   ]
  },
  {
   "cell_type": "code",
   "execution_count": 161,
   "id": "cc9bbb84",
   "metadata": {},
   "outputs": [
    {
     "name": "stdout",
     "output_type": "stream",
     "text": [
      "(1, 2)\n",
      "17\n",
      "[1, 5, 9, 13]\n",
      "{100, 5, 4, 7, 40, 9, 10, 200, 300, 13, 16, 17, 400, 19, 20, 30}\n"
     ]
    }
   ],
   "source": [
    "print(myset.pop()) #returns any element which was popped out\n",
    "print(my_list.pop()) #always returns last element which was popped out\n",
    "\n",
    "print(my_list)\n",
    "print(myset)"
   ]
  },
  {
   "cell_type": "code",
   "execution_count": 162,
   "id": "7e0b88c2",
   "metadata": {},
   "outputs": [
    {
     "name": "stdout",
     "output_type": "stream",
     "text": [
      "9\n",
      "[1, 5, 13]\n"
     ]
    }
   ],
   "source": [
    "print(my_list.pop(2)) # when we want to pop from a list, we can specify the index for which we want value\n",
    "print(my_list)"
   ]
  },
  {
   "cell_type": "code",
   "execution_count": 143,
   "id": "94ca96c9",
   "metadata": {},
   "outputs": [
    {
     "ename": "TypeError",
     "evalue": "pop() takes no arguments (1 given)",
     "output_type": "error",
     "traceback": [
      "\u001b[1;31m---------------------------------------------------------------------------\u001b[0m",
      "\u001b[1;31mTypeError\u001b[0m                                 Traceback (most recent call last)",
      "\u001b[1;32m<ipython-input-143-84e9e5f3addd>\u001b[0m in \u001b[0;36m<module>\u001b[1;34m\u001b[0m\n\u001b[1;32m----> 1\u001b[1;33m \u001b[0mmy_set\u001b[0m\u001b[1;33m.\u001b[0m\u001b[0mpop\u001b[0m\u001b[1;33m(\u001b[0m\u001b[1;36m100\u001b[0m\u001b[1;33m)\u001b[0m \u001b[1;31m#set does not allow to pop specified element\u001b[0m\u001b[1;33m\u001b[0m\u001b[1;33m\u001b[0m\u001b[0m\n\u001b[0m",
      "\u001b[1;31mTypeError\u001b[0m: pop() takes no arguments (1 given)"
     ]
    }
   ],
   "source": [
    "my_set.pop(100) #set does not allow to pop specified element"
   ]
  },
  {
   "cell_type": "code",
   "execution_count": 163,
   "id": "c1f9a1f8",
   "metadata": {},
   "outputs": [
    {
     "name": "stdout",
     "output_type": "stream",
     "text": [
      "None\n",
      "{5, 4, 7, 40, 9, 10, 200, 300, 13, 16, 17, 400, 19, 20, 30}\n"
     ]
    }
   ],
   "source": [
    "print(myset.remove(100))\n",
    "print(myset)"
   ]
  },
  {
   "cell_type": "code",
   "execution_count": 164,
   "id": "cbf158dc",
   "metadata": {},
   "outputs": [
    {
     "ename": "KeyError",
     "evalue": "500",
     "output_type": "error",
     "traceback": [
      "\u001b[1;31m---------------------------------------------------------------------------\u001b[0m",
      "\u001b[1;31mKeyError\u001b[0m                                  Traceback (most recent call last)",
      "\u001b[1;32m<ipython-input-164-bb4da1f32227>\u001b[0m in \u001b[0;36m<module>\u001b[1;34m\u001b[0m\n\u001b[1;32m----> 1\u001b[1;33m \u001b[0mprint\u001b[0m\u001b[1;33m(\u001b[0m\u001b[0mmyset\u001b[0m\u001b[1;33m.\u001b[0m\u001b[0mremove\u001b[0m\u001b[1;33m(\u001b[0m\u001b[1;36m500\u001b[0m\u001b[1;33m)\u001b[0m\u001b[1;33m)\u001b[0m\u001b[1;33m\u001b[0m\u001b[1;33m\u001b[0m\u001b[0m\n\u001b[0m",
      "\u001b[1;31mKeyError\u001b[0m: 500"
     ]
    }
   ],
   "source": [
    "print(myset.remove(500))"
   ]
  },
  {
   "cell_type": "code",
   "execution_count": 165,
   "id": "aadce610",
   "metadata": {},
   "outputs": [],
   "source": [
    "if 500 in myset:\n",
    "    print(myset.remove(500))"
   ]
  },
  {
   "cell_type": "code",
   "execution_count": 166,
   "id": "b60290b4",
   "metadata": {},
   "outputs": [
    {
     "name": "stdout",
     "output_type": "stream",
     "text": [
      "{5, 4, 7, 40, 9, 10, 200, 300, 13, 16, 17, 400, 19, 20, 30}\n"
     ]
    }
   ],
   "source": [
    "print(myset)"
   ]
  },
  {
   "cell_type": "code",
   "execution_count": 167,
   "id": "8d932e31",
   "metadata": {},
   "outputs": [
    {
     "name": "stdout",
     "output_type": "stream",
     "text": [
      "None\n"
     ]
    }
   ],
   "source": [
    "print(myset.discard(500))"
   ]
  },
  {
   "cell_type": "code",
   "execution_count": 168,
   "id": "89b973a8",
   "metadata": {},
   "outputs": [
    {
     "name": "stdout",
     "output_type": "stream",
     "text": [
      "None\n",
      "{5, 4, 7, 40, 9, 10, 200, 300, 13, 16, 17, 19, 20, 30}\n"
     ]
    }
   ],
   "source": [
    "print(myset.discard(400))\n",
    "print(myset)"
   ]
  },
  {
   "cell_type": "markdown",
   "id": "a456891f",
   "metadata": {},
   "source": [
    "### Union, Intersection"
   ]
  },
  {
   "cell_type": "code",
   "execution_count": 173,
   "id": "9ceb021a",
   "metadata": {},
   "outputs": [
    {
     "name": "stdout",
     "output_type": "stream",
     "text": [
      "{5, 4, 7, 40, 9, 10, 200, 300, 13, 16, 17, 19, 20, 30}\n",
      "[1, 5, 9, 13, 17]\n",
      "(1, 4, 7, 10, 13, 16, 19)\n",
      "{1, 5, 9, 13, 17}\n",
      "{1, 4, 7, 10, 13, 16, 19}\n"
     ]
    }
   ],
   "source": [
    "print(myset)\n",
    "print(my_list)\n",
    "print(my_tuple)\n",
    "print(my_set1)\n",
    "print(my_set2)"
   ]
  },
  {
   "cell_type": "code",
   "execution_count": 175,
   "id": "779cf1f8",
   "metadata": {},
   "outputs": [
    {
     "name": "stdout",
     "output_type": "stream",
     "text": [
      "{1, 5, 9, 13, 17}\n",
      "{1, 4, 7, 10, 13, 16, 19}\n",
      "{1, 4, 5, 7, 9, 10, 13, 16, 17, 19}\n"
     ]
    }
   ],
   "source": [
    "my_union_set = (my_set1.union(my_set2)) #(my_set1 | my_set2)\n",
    "print(my_set1)\n",
    "print(my_set2)\n",
    "print(my_union_set)"
   ]
  },
  {
   "cell_type": "code",
   "execution_count": 178,
   "id": "88454263",
   "metadata": {},
   "outputs": [
    {
     "name": "stdout",
     "output_type": "stream",
     "text": [
      "{1, 5, 9, 13, 17}\n",
      "{1, 4, 7, 10, 13, 16, 19}\n",
      "{1, 13}\n"
     ]
    }
   ],
   "source": [
    "my_intersection_set = (my_set1.intersection(my_set2)) #(my_set1 & my_set2)\n",
    "print(my_set1)\n",
    "print(my_set2)\n",
    "print(my_intersection_set)"
   ]
  },
  {
   "cell_type": "code",
   "execution_count": 179,
   "id": "cac8b71d",
   "metadata": {},
   "outputs": [
    {
     "name": "stdout",
     "output_type": "stream",
     "text": [
      "{1, 5, 9, 13, 17}\n",
      "{1, 4, 7, 10, 13, 16, 19}\n",
      "{9, 5, 17}\n"
     ]
    }
   ],
   "source": [
    "my_difference_set = (my_set1.difference(my_set2)) #(my_set1 - my_set2)\n",
    "print(my_set1)\n",
    "print(my_set2)\n",
    "print(my_difference_set)"
   ]
  },
  {
   "cell_type": "code",
   "execution_count": 180,
   "id": "f20285f1",
   "metadata": {},
   "outputs": [
    {
     "name": "stdout",
     "output_type": "stream",
     "text": [
      "{1, 5, 9, 13, 17}\n",
      "{1, 4, 7, 10, 13, 16, 19}\n",
      "{4, 7, 10, 16, 19}\n"
     ]
    }
   ],
   "source": [
    "my_difference_set_2 = (my_set2.difference(my_set1)) #(my_set2 - my_set1)\n",
    "print(my_set1)\n",
    "print(my_set2)\n",
    "print(my_difference_set_2)"
   ]
  },
  {
   "cell_type": "code",
   "execution_count": 181,
   "id": "45353dd4",
   "metadata": {},
   "outputs": [
    {
     "name": "stdout",
     "output_type": "stream",
     "text": [
      "{1, 5, 9, 13, 17}\n",
      "{1, 4, 7, 10, 13, 16, 19}\n",
      "{4, 5, 7, 9, 10, 16, 17, 19}\n"
     ]
    }
   ],
   "source": [
    "my_symmetric_difference_set = (my_set1.symmetric_difference(my_set2)) #(my_set1 ^ my_set2)\n",
    "print(my_set1)\n",
    "print(my_set2)\n",
    "print(my_symmetric_difference_set)"
   ]
  },
  {
   "cell_type": "markdown",
   "id": "b4c90439",
   "metadata": {},
   "source": [
    "### Membership Operators: (in, not in)"
   ]
  },
  {
   "cell_type": "code",
   "execution_count": 186,
   "id": "66e915f0",
   "metadata": {},
   "outputs": [
    {
     "name": "stdout",
     "output_type": "stream",
     "text": [
      "j\n",
      "o\n",
      "l\n",
      "l\n",
      "y\n"
     ]
    }
   ],
   "source": [
    "#String Object\n",
    "for x in 'jolly':\n",
    "    print(x)"
   ]
  },
  {
   "cell_type": "code",
   "execution_count": 182,
   "id": "303f6294",
   "metadata": {},
   "outputs": [],
   "source": [
    "s=set(\"durga\")"
   ]
  },
  {
   "cell_type": "code",
   "execution_count": 183,
   "id": "8d06219d",
   "metadata": {},
   "outputs": [
    {
     "name": "stdout",
     "output_type": "stream",
     "text": [
      "{'a', 'u', 'd', 'g', 'r'}\n",
      "True\n",
      "False\n"
     ]
    }
   ],
   "source": [
    "print(s)\n",
    "print('d' in s)\n",
    "print('z' in s) "
   ]
  },
  {
   "cell_type": "code",
   "execution_count": 189,
   "id": "96123287",
   "metadata": {},
   "outputs": [
    {
     "name": "stdout",
     "output_type": "stream",
     "text": [
      "{'a', 'u', 'd', 'g', 'r'}\n",
      "False\n",
      "True\n"
     ]
    }
   ],
   "source": [
    "print(s)\n",
    "print('d' not in s)\n",
    "print('z' not in s) "
   ]
  },
  {
   "cell_type": "markdown",
   "id": "fb20f024",
   "metadata": {},
   "source": [
    "# Dictionary"
   ]
  },
  {
   "cell_type": "code",
   "execution_count": 1,
   "id": "4b0a63fd",
   "metadata": {},
   "outputs": [
    {
     "name": "stdout",
     "output_type": "stream",
     "text": [
      "{}\n",
      "<class 'dict'>\n"
     ]
    }
   ],
   "source": [
    "#Create blank dictionary with {}\n",
    "my_dictionary={}\n",
    "print(my_dictionary)\n",
    "print(type(my_dictionary))"
   ]
  },
  {
   "cell_type": "code",
   "execution_count": 2,
   "id": "24fd5d23",
   "metadata": {},
   "outputs": [
    {
     "name": "stdout",
     "output_type": "stream",
     "text": [
      "{}\n",
      "<class 'dict'>\n"
     ]
    }
   ],
   "source": [
    "#Create blank dictionary with dict function\n",
    "my_dictionary=dict()\n",
    "print(my_dictionary)\n",
    "print(type(my_dictionary))"
   ]
  },
  {
   "cell_type": "code",
   "execution_count": 4,
   "id": "cade66df",
   "metadata": {},
   "outputs": [
    {
     "name": "stdout",
     "output_type": "stream",
     "text": [
      "{'name': 'Arnab', 'age': '32', 'status': 'Single'}\n",
      "<class 'dict'>\n"
     ]
    }
   ],
   "source": [
    "#Create dictionary with kown elements\n",
    "my_dictionary={'name':\"Arnab\", 'age':\"32\", 'status':\"Single\"}\n",
    "print(my_dictionary)\n",
    "print(type(my_dictionary))"
   ]
  },
  {
   "cell_type": "code",
   "execution_count": 6,
   "id": "cd4de004",
   "metadata": {},
   "outputs": [
    {
     "name": "stdout",
     "output_type": "stream",
     "text": [
      "{}\n",
      "<class 'dict'>\n",
      "{'Name': 'Arnab', 'Age': 32, 'Status': ['Single', 'Committed']}\n"
     ]
    }
   ],
   "source": [
    "#Create blank dictionary and add key value\n",
    "my_dictionary=dict()\n",
    "print(my_dictionary)\n",
    "print(type(my_dictionary))\n",
    "\n",
    "my_dictionary[\"Name\"]='Arnab'\n",
    "my_dictionary[\"Age\"]=32\n",
    "my_dictionary[\"Status\"]=['Single','Committed']\n",
    "print(my_dictionary)\n"
   ]
  },
  {
   "cell_type": "code",
   "execution_count": 13,
   "id": "3f864548",
   "metadata": {},
   "outputs": [
    {
     "name": "stdout",
     "output_type": "stream",
     "text": [
      "Enter your dictionary{{'Name'}: 'Arnab', ['Age']: 32, ('Status',): ['Single', 'Committed']}\n"
     ]
    },
    {
     "ename": "TypeError",
     "evalue": "unhashable type: 'set'",
     "output_type": "error",
     "traceback": [
      "\u001b[1;31m---------------------------------------------------------------------------\u001b[0m",
      "\u001b[1;31mTypeError\u001b[0m                                 Traceback (most recent call last)",
      "\u001b[1;32m<ipython-input-13-90d33536d18e>\u001b[0m in \u001b[0;36m<module>\u001b[1;34m\u001b[0m\n\u001b[0;32m      1\u001b[0m \u001b[1;31m#Create blank dictionary and add key value\u001b[0m\u001b[1;33m\u001b[0m\u001b[1;33m\u001b[0m\u001b[1;33m\u001b[0m\u001b[0m\n\u001b[1;32m----> 2\u001b[1;33m \u001b[0mmy_dictionary\u001b[0m\u001b[1;33m=\u001b[0m\u001b[0meval\u001b[0m\u001b[1;33m(\u001b[0m\u001b[0minput\u001b[0m\u001b[1;33m(\u001b[0m\u001b[1;34m\"Enter your dictionary\"\u001b[0m\u001b[1;33m)\u001b[0m\u001b[1;33m)\u001b[0m\u001b[1;33m\u001b[0m\u001b[1;33m\u001b[0m\u001b[0m\n\u001b[0m\u001b[0;32m      3\u001b[0m \u001b[0mprint\u001b[0m\u001b[1;33m(\u001b[0m\u001b[0mmy_dictionary\u001b[0m\u001b[1;33m)\u001b[0m\u001b[1;33m\u001b[0m\u001b[1;33m\u001b[0m\u001b[0m\n\u001b[0;32m      4\u001b[0m \u001b[0mprint\u001b[0m\u001b[1;33m(\u001b[0m\u001b[0mtype\u001b[0m\u001b[1;33m(\u001b[0m\u001b[0mmy_dictionary\u001b[0m\u001b[1;33m)\u001b[0m\u001b[1;33m)\u001b[0m\u001b[1;33m\u001b[0m\u001b[1;33m\u001b[0m\u001b[0m\n",
      "\u001b[1;32m<string>\u001b[0m in \u001b[0;36m<module>\u001b[1;34m\u001b[0m\n",
      "\u001b[1;31mTypeError\u001b[0m: unhashable type: 'set'"
     ]
    }
   ],
   "source": [
    "#Create blank dictionary and add key value\n",
    "my_dictionary=eval(input(\"Enter your dictionary\"))\n",
    "print(my_dictionary)\n",
    "print(type(my_dictionary))\n"
   ]
  },
  {
   "cell_type": "code",
   "execution_count": 14,
   "id": "a7e7aeb9",
   "metadata": {},
   "outputs": [
    {
     "name": "stdout",
     "output_type": "stream",
     "text": [
      "Enter your dictionary{'Name': 'Arnab', ['Age']: 32, ('Status',): ['Single', 'Committed']}\n"
     ]
    },
    {
     "ename": "TypeError",
     "evalue": "unhashable type: 'list'",
     "output_type": "error",
     "traceback": [
      "\u001b[1;31m---------------------------------------------------------------------------\u001b[0m",
      "\u001b[1;31mTypeError\u001b[0m                                 Traceback (most recent call last)",
      "\u001b[1;32m<ipython-input-14-90d33536d18e>\u001b[0m in \u001b[0;36m<module>\u001b[1;34m\u001b[0m\n\u001b[0;32m      1\u001b[0m \u001b[1;31m#Create blank dictionary and add key value\u001b[0m\u001b[1;33m\u001b[0m\u001b[1;33m\u001b[0m\u001b[1;33m\u001b[0m\u001b[0m\n\u001b[1;32m----> 2\u001b[1;33m \u001b[0mmy_dictionary\u001b[0m\u001b[1;33m=\u001b[0m\u001b[0meval\u001b[0m\u001b[1;33m(\u001b[0m\u001b[0minput\u001b[0m\u001b[1;33m(\u001b[0m\u001b[1;34m\"Enter your dictionary\"\u001b[0m\u001b[1;33m)\u001b[0m\u001b[1;33m)\u001b[0m\u001b[1;33m\u001b[0m\u001b[1;33m\u001b[0m\u001b[0m\n\u001b[0m\u001b[0;32m      3\u001b[0m \u001b[0mprint\u001b[0m\u001b[1;33m(\u001b[0m\u001b[0mmy_dictionary\u001b[0m\u001b[1;33m)\u001b[0m\u001b[1;33m\u001b[0m\u001b[1;33m\u001b[0m\u001b[0m\n\u001b[0;32m      4\u001b[0m \u001b[0mprint\u001b[0m\u001b[1;33m(\u001b[0m\u001b[0mtype\u001b[0m\u001b[1;33m(\u001b[0m\u001b[0mmy_dictionary\u001b[0m\u001b[1;33m)\u001b[0m\u001b[1;33m)\u001b[0m\u001b[1;33m\u001b[0m\u001b[1;33m\u001b[0m\u001b[0m\n",
      "\u001b[1;32m<string>\u001b[0m in \u001b[0;36m<module>\u001b[1;34m\u001b[0m\n",
      "\u001b[1;31mTypeError\u001b[0m: unhashable type: 'list'"
     ]
    }
   ],
   "source": [
    "#Create dictionary from user input\n",
    "my_dictionary=eval(input(\"Enter your dictionary\"))\n",
    "print(my_dictionary)\n",
    "print(type(my_dictionary))"
   ]
  },
  {
   "cell_type": "code",
   "execution_count": 15,
   "id": "b990785a",
   "metadata": {},
   "outputs": [
    {
     "name": "stdout",
     "output_type": "stream",
     "text": [
      "Enter your dictionary{'Name': 'Arnab', 'Age': 32, ('Status',): ['Single', 'Committed']}\n",
      "{'Name': 'Arnab', 'Age': 32, ('Status',): ['Single', 'Committed']}\n",
      "<class 'dict'>\n"
     ]
    }
   ],
   "source": [
    "#Create blank dictionary and add key value\n",
    "my_dictionary=eval(input(\"Enter your dictionary\"))\n",
    "print(my_dictionary)\n",
    "print(type(my_dictionary))"
   ]
  },
  {
   "cell_type": "markdown",
   "id": "01f40882",
   "metadata": {},
   "source": [
    "Key of dictionary is hashable. Tuple can be a key for a dictionary as Tuple is hashable"
   ]
  },
  {
   "cell_type": "code",
   "execution_count": 16,
   "id": "3399e7b5",
   "metadata": {},
   "outputs": [
    {
     "ename": "TypeError",
     "evalue": "unhashable type: 'dict'",
     "output_type": "error",
     "traceback": [
      "\u001b[1;31m---------------------------------------------------------------------------\u001b[0m",
      "\u001b[1;31mTypeError\u001b[0m                                 Traceback (most recent call last)",
      "\u001b[1;32m<ipython-input-16-be5246e2ee86>\u001b[0m in \u001b[0;36m<module>\u001b[1;34m\u001b[0m\n\u001b[1;32m----> 1\u001b[1;33m \u001b[0mhash\u001b[0m\u001b[1;33m(\u001b[0m\u001b[0mmy_dictionary\u001b[0m\u001b[1;33m)\u001b[0m\u001b[1;33m\u001b[0m\u001b[1;33m\u001b[0m\u001b[0m\n\u001b[0m",
      "\u001b[1;31mTypeError\u001b[0m: unhashable type: 'dict'"
     ]
    }
   ],
   "source": [
    "hash(my_dictionary)"
   ]
  },
  {
   "cell_type": "markdown",
   "id": "fa7e3b55",
   "metadata": {},
   "source": [
    "### How to Access Data from the Dictionary "
   ]
  },
  {
   "cell_type": "code",
   "execution_count": 19,
   "id": "cc400421",
   "metadata": {},
   "outputs": [
    {
     "name": "stdout",
     "output_type": "stream",
     "text": [
      "Enter your dictionary{'Name': 'Arnab', 'Age': 32, 'Status': ['Single', 'Committed'], 'hobby':'youtube search', 'job':'IT','salaried':True}\n",
      "{'Name': 'Arnab', 'Age': 32, 'Status': ['Single', 'Committed'], 'hobby': 'youtube search', 'job': 'IT', 'salaried': True}\n"
     ]
    }
   ],
   "source": [
    "#Create dictionary from user input\n",
    "my_dictionary=eval(input(\"Enter your dictionary\"))\n",
    "print(my_dictionary)\n"
   ]
  },
  {
   "cell_type": "code",
   "execution_count": 20,
   "id": "b9251346",
   "metadata": {},
   "outputs": [
    {
     "data": {
      "text/plain": [
       "'Arnab'"
      ]
     },
     "execution_count": 20,
     "metadata": {},
     "output_type": "execute_result"
    }
   ],
   "source": [
    "my_dictionary['Name']"
   ]
  },
  {
   "cell_type": "code",
   "execution_count": 23,
   "id": "026ff4d9",
   "metadata": {},
   "outputs": [
    {
     "data": {
      "text/plain": [
       "32"
      ]
     },
     "execution_count": 23,
     "metadata": {},
     "output_type": "execute_result"
    }
   ],
   "source": [
    "my_dictionary.get('Age')"
   ]
  },
  {
   "cell_type": "code",
   "execution_count": 26,
   "id": "1772ba03",
   "metadata": {},
   "outputs": [
    {
     "data": {
      "text/plain": [
       "dict_items([('Name', 'Arnab'), ('Age', 32), ('Status', ['Single', 'Committed']), ('hobby', 'youtube search'), ('job', 'IT'), ('salaried', True)])"
      ]
     },
     "execution_count": 26,
     "metadata": {},
     "output_type": "execute_result"
    }
   ],
   "source": [
    "#items() function returns object of dict_items class which is list of key value pairs represented in form of tuples\n",
    "my_dictionary.items()"
   ]
  },
  {
   "cell_type": "code",
   "execution_count": 36,
   "id": "5d9bcfb2",
   "metadata": {},
   "outputs": [
    {
     "name": "stdout",
     "output_type": "stream",
     "text": [
      "dict_items([('Name', 'Arnab'), ('Age', 32), ('Status', ['Single', 'Committed']), ('hobby', 'youtube search'), ('job', 'IT'), ('salaried', True)])\n",
      "<class 'dict_items'>\n"
     ]
    }
   ],
   "source": [
    "my_dict_items = my_dictionary.items()\n",
    "print(my_dict_items)\n",
    "print(type(my_dict_items))"
   ]
  },
  {
   "cell_type": "code",
   "execution_count": 39,
   "id": "2c486ac9",
   "metadata": {},
   "outputs": [
    {
     "name": "stdout",
     "output_type": "stream",
     "text": [
      "('Name', 'Arnab')\n",
      "('Age', 32)\n",
      "('Status', ['Single', 'Committed'])\n",
      "('hobby', 'youtube search')\n",
      "('job', 'IT')\n",
      "('salaried', True)\n",
      "<class 'tuple'>\n"
     ]
    }
   ],
   "source": [
    "for item in my_dict_items:\n",
    "    print(item)\n",
    "print(type(item))    "
   ]
  },
  {
   "cell_type": "code",
   "execution_count": 40,
   "id": "a051c8ca",
   "metadata": {},
   "outputs": [
    {
     "name": "stdout",
     "output_type": "stream",
     "text": [
      "dict_keys(['Name', 'Age', 'Status', 'hobby', 'job', 'salaried'])\n",
      "<class 'dict_keys'>\n"
     ]
    }
   ],
   "source": [
    "my_dictionary.keys()\n",
    "my_dictkeys = my_dictionary.keys()\n",
    "print(my_dictkeys)\n",
    "print(type(my_dictkeys))"
   ]
  },
  {
   "cell_type": "code",
   "execution_count": 28,
   "id": "71f579a8",
   "metadata": {},
   "outputs": [
    {
     "data": {
      "text/plain": [
       "dict_values(['Arnab', 32, ['Single', 'Committed'], 'youtube search', 'IT', True])"
      ]
     },
     "execution_count": 28,
     "metadata": {},
     "output_type": "execute_result"
    }
   ],
   "source": [
    "my_dictionary.values()"
   ]
  },
  {
   "cell_type": "code",
   "execution_count": 31,
   "id": "d585033a",
   "metadata": {},
   "outputs": [
    {
     "ename": "KeyError",
     "evalue": "'Sex'",
     "output_type": "error",
     "traceback": [
      "\u001b[1;31m---------------------------------------------------------------------------\u001b[0m",
      "\u001b[1;31mKeyError\u001b[0m                                  Traceback (most recent call last)",
      "\u001b[1;32m<ipython-input-31-743d5087549a>\u001b[0m in \u001b[0;36m<module>\u001b[1;34m\u001b[0m\n\u001b[1;32m----> 1\u001b[1;33m \u001b[0mmy_dictionary\u001b[0m\u001b[1;33m[\u001b[0m\u001b[1;34m'Sex'\u001b[0m\u001b[1;33m]\u001b[0m\u001b[1;33m\u001b[0m\u001b[1;33m\u001b[0m\u001b[0m\n\u001b[0m",
      "\u001b[1;31mKeyError\u001b[0m: 'Sex'"
     ]
    }
   ],
   "source": [
    "my_dictionary['Sex']"
   ]
  },
  {
   "cell_type": "code",
   "execution_count": 35,
   "id": "589477b4",
   "metadata": {},
   "outputs": [
    {
     "name": "stdout",
     "output_type": "stream",
     "text": [
      "No Sex\n"
     ]
    }
   ],
   "source": [
    "#When not sure if key is available or not\n",
    "if 'Sex' in my_dictionary:\n",
    "    print(my_dictionary['Sex'])\n",
    "else:\n",
    "    print (\"No Sex\")"
   ]
  },
  {
   "cell_type": "code",
   "execution_count": 43,
   "id": "1584f382",
   "metadata": {},
   "outputs": [
    {
     "name": "stdout",
     "output_type": "stream",
     "text": [
      "Name\n",
      "Age\n",
      "Status\n",
      "hobby\n",
      "job\n",
      "salaried\n"
     ]
    }
   ],
   "source": [
    "for sex in my_dictionary.keys():\n",
    "    print(sex)"
   ]
  },
  {
   "cell_type": "markdown",
   "id": "1f54b076",
   "metadata": {},
   "source": [
    "### How to Update Dictionaries"
   ]
  },
  {
   "cell_type": "code",
   "execution_count": 45,
   "id": "31048256",
   "metadata": {},
   "outputs": [
    {
     "data": {
      "text/plain": [
       "dict_items([('Name', 'Arnab'), ('Age', 32), ('Status', ['Single', 'Committed']), ('hobby', 'youtube search'), ('job', 'IT'), ('salaried', True)])"
      ]
     },
     "execution_count": 45,
     "metadata": {},
     "output_type": "execute_result"
    }
   ],
   "source": [
    "my_dictionary.items()"
   ]
  },
  {
   "cell_type": "code",
   "execution_count": 54,
   "id": "c45d9fec",
   "metadata": {},
   "outputs": [
    {
     "data": {
      "text/plain": [
       "{'Name': 'Arnab',\n",
       " 'Age': 32,\n",
       " 'Status': {'New': 'Committed'},\n",
       " 'hobby': 'youtube search',\n",
       " 'job': 'IT',\n",
       " 'salaried': True}"
      ]
     },
     "execution_count": 54,
     "metadata": {},
     "output_type": "execute_result"
    }
   ],
   "source": [
    "my_copied_dictionary = my_dictionary.copy()\n",
    "my_copied_dictionary"
   ]
  },
  {
   "cell_type": "code",
   "execution_count": 53,
   "id": "d466164c",
   "metadata": {},
   "outputs": [
    {
     "data": {
      "text/plain": [
       "{'Name': 'Arnab',\n",
       " 'Age': 32,\n",
       " 'Status': {'Old': 'Single', 'New': 'Committed'},\n",
       " 'hobby': 'youtube search',\n",
       " 'job': 'IT',\n",
       " 'salaried': True}"
      ]
     },
     "execution_count": 53,
     "metadata": {},
     "output_type": "execute_result"
    }
   ],
   "source": [
    "#update existing value of a Key\n",
    "my_dictionary['Status'] = {'Old':'Single','New':'Committed'}\n",
    "my_dictionary"
   ]
  },
  {
   "cell_type": "code",
   "execution_count": 72,
   "id": "f2d9b1d7",
   "metadata": {},
   "outputs": [],
   "source": [
    "my_dictionary['height'] = 176"
   ]
  },
  {
   "cell_type": "code",
   "execution_count": 73,
   "id": "86189e65",
   "metadata": {},
   "outputs": [
    {
     "data": {
      "text/plain": [
       "{'Name': 'Arnab',\n",
       " 'Age': 32,\n",
       " 'Status': {'Old': 'Single', 'New': 'Committed'},\n",
       " 'hobby': 'youtube search',\n",
       " 'job': 'IT',\n",
       " 'salaried': True,\n",
       " 'Sex': 'Male',\n",
       " 'height': 176}"
      ]
     },
     "execution_count": 73,
     "metadata": {},
     "output_type": "execute_result"
    }
   ],
   "source": [
    "my_dictionary"
   ]
  },
  {
   "cell_type": "code",
   "execution_count": 61,
   "id": "c7f52ddf",
   "metadata": {},
   "outputs": [
    {
     "ename": "KeyError",
     "evalue": "'Sex'",
     "output_type": "error",
     "traceback": [
      "\u001b[1;31m---------------------------------------------------------------------------\u001b[0m",
      "\u001b[1;31mKeyError\u001b[0m                                  Traceback (most recent call last)",
      "\u001b[1;32m<ipython-input-61-743d5087549a>\u001b[0m in \u001b[0;36m<module>\u001b[1;34m\u001b[0m\n\u001b[1;32m----> 1\u001b[1;33m \u001b[0mmy_dictionary\u001b[0m\u001b[1;33m[\u001b[0m\u001b[1;34m'Sex'\u001b[0m\u001b[1;33m]\u001b[0m\u001b[1;33m\u001b[0m\u001b[1;33m\u001b[0m\u001b[0m\n\u001b[0m",
      "\u001b[1;31mKeyError\u001b[0m: 'Sex'"
     ]
    }
   ],
   "source": [
    "my_dictionary['Sex']"
   ]
  },
  {
   "cell_type": "code",
   "execution_count": 64,
   "id": "7e4a6ed7",
   "metadata": {},
   "outputs": [
    {
     "name": "stdout",
     "output_type": "stream",
     "text": [
      "<class 'NoneType'>\n"
     ]
    }
   ],
   "source": [
    "a = my_dictionary.get('Sex')\n",
    "print(type(a))"
   ]
  },
  {
   "cell_type": "code",
   "execution_count": 55,
   "id": "a1a0e68b",
   "metadata": {},
   "outputs": [
    {
     "data": {
      "text/plain": [
       "'Male'"
      ]
     },
     "execution_count": 55,
     "metadata": {},
     "output_type": "execute_result"
    }
   ],
   "source": [
    "# This does not add unavaialable key value pair in the list \n",
    "# but this does not throw any error if key is not present \n",
    "#instead returns the defauclt value\n",
    "my_dictionary.get('Sex','Male')"
   ]
  },
  {
   "cell_type": "code",
   "execution_count": 65,
   "id": "6839802a",
   "metadata": {},
   "outputs": [
    {
     "data": {
      "text/plain": [
       "'Arnab'"
      ]
     },
     "execution_count": 65,
     "metadata": {},
     "output_type": "execute_result"
    }
   ],
   "source": [
    "my_dictionary.get('Name','Subhro')"
   ]
  },
  {
   "cell_type": "code",
   "execution_count": 66,
   "id": "e766d9a1",
   "metadata": {},
   "outputs": [
    {
     "data": {
      "text/plain": [
       "{'Name': 'Arnab',\n",
       " 'Age': 32,\n",
       " 'Status': {'Old': 'Single', 'New': 'Committed'},\n",
       " 'hobby': 'youtube search',\n",
       " 'job': 'IT',\n",
       " 'salaried': True}"
      ]
     },
     "execution_count": 66,
     "metadata": {},
     "output_type": "execute_result"
    }
   ],
   "source": [
    "my_dictionary"
   ]
  },
  {
   "cell_type": "code",
   "execution_count": 67,
   "id": "303acaa3",
   "metadata": {},
   "outputs": [
    {
     "data": {
      "text/plain": [
       "'Male'"
      ]
     },
     "execution_count": 67,
     "metadata": {},
     "output_type": "execute_result"
    }
   ],
   "source": [
    "# This adds the key value pair in the dictionary if key does not exists\n",
    "my_dictionary.setdefault('Sex','Male')"
   ]
  },
  {
   "cell_type": "code",
   "execution_count": 68,
   "id": "19cb6da0",
   "metadata": {},
   "outputs": [
    {
     "data": {
      "text/plain": [
       "{'Name': 'Arnab',\n",
       " 'Age': 32,\n",
       " 'Status': {'Old': 'Single', 'New': 'Committed'},\n",
       " 'hobby': 'youtube search',\n",
       " 'job': 'IT',\n",
       " 'salaried': True,\n",
       " 'Sex': 'Male'}"
      ]
     },
     "execution_count": 68,
     "metadata": {},
     "output_type": "execute_result"
    }
   ],
   "source": [
    "my_dictionary"
   ]
  },
  {
   "cell_type": "code",
   "execution_count": 69,
   "id": "ba0f5f61",
   "metadata": {},
   "outputs": [
    {
     "data": {
      "text/plain": [
       "'Arnab'"
      ]
     },
     "execution_count": 69,
     "metadata": {},
     "output_type": "execute_result"
    }
   ],
   "source": [
    "my_dictionary.setdefault('Name','Subhro')"
   ]
  },
  {
   "cell_type": "code",
   "execution_count": 70,
   "id": "182815b9",
   "metadata": {},
   "outputs": [
    {
     "data": {
      "text/plain": [
       "{'Name': 'Arnab',\n",
       " 'Age': 32,\n",
       " 'Status': {'Old': 'Single', 'New': 'Committed'},\n",
       " 'hobby': 'youtube search',\n",
       " 'job': 'IT',\n",
       " 'salaried': True,\n",
       " 'Sex': 'Male'}"
      ]
     },
     "execution_count": 70,
     "metadata": {},
     "output_type": "execute_result"
    }
   ],
   "source": [
    "my_dictionary"
   ]
  },
  {
   "cell_type": "code",
   "execution_count": 75,
   "id": "b56c858a",
   "metadata": {},
   "outputs": [
    {
     "data": {
      "text/plain": [
       "{'height': 1.76, 'weight': 80}"
      ]
     },
     "execution_count": 75,
     "metadata": {},
     "output_type": "execute_result"
    }
   ],
   "source": [
    "my_temp_dictionary ={'height':1.76, 'weight':80}\n",
    "my_temp_dictionary"
   ]
  },
  {
   "cell_type": "code",
   "execution_count": 76,
   "id": "3c9cf6af",
   "metadata": {},
   "outputs": [
    {
     "data": {
      "text/plain": [
       "{'Name': 'Arnab',\n",
       " 'Age': 32,\n",
       " 'Status': {'Old': 'Single', 'New': 'Committed'},\n",
       " 'hobby': 'youtube search',\n",
       " 'job': 'IT',\n",
       " 'salaried': True,\n",
       " 'Sex': 'Male',\n",
       " 'height': 176}"
      ]
     },
     "execution_count": 76,
     "metadata": {},
     "output_type": "execute_result"
    }
   ],
   "source": [
    "my_dictionary"
   ]
  },
  {
   "cell_type": "code",
   "execution_count": 77,
   "id": "0d7d713e",
   "metadata": {},
   "outputs": [
    {
     "data": {
      "text/plain": [
       "{'Name': 'Arnab',\n",
       " 'Age': 32,\n",
       " 'Status': {'Old': 'Single', 'New': 'Committed'},\n",
       " 'hobby': 'youtube search',\n",
       " 'job': 'IT',\n",
       " 'salaried': True,\n",
       " 'Sex': 'Male',\n",
       " 'height': 1.76,\n",
       " 'weight': 80}"
      ]
     },
     "execution_count": 77,
     "metadata": {},
     "output_type": "execute_result"
    }
   ],
   "source": [
    "#Add elements of one dict into another\n",
    "my_dictionary.update(my_temp_dictionary)\n",
    "my_dictionary"
   ]
  },
  {
   "cell_type": "code",
   "execution_count": 78,
   "id": "a8b4a4fc",
   "metadata": {},
   "outputs": [
    {
     "data": {
      "text/plain": [
       "{'Name': 'Arnab',\n",
       " 'Age': 32,\n",
       " 'Status': {'Old': 'Single', 'New': 'Committed'},\n",
       " 'hobby': 'youtube search',\n",
       " 'job': 'IT',\n",
       " 'salaried': True,\n",
       " 'Sex': 'Male',\n",
       " 'height': 1.76,\n",
       " 'weight': 80}"
      ]
     },
     "execution_count": 78,
     "metadata": {},
     "output_type": "execute_result"
    }
   ],
   "source": [
    "my_dictionary"
   ]
  },
  {
   "cell_type": "code",
   "execution_count": 79,
   "id": "54f62b34",
   "metadata": {},
   "outputs": [
    {
     "data": {
      "text/plain": [
       "{'height': 1.76, 'weight': 80}"
      ]
     },
     "execution_count": 79,
     "metadata": {},
     "output_type": "execute_result"
    }
   ],
   "source": [
    "my_temp_dictionary"
   ]
  },
  {
   "cell_type": "markdown",
   "id": "0ca25fee",
   "metadata": {},
   "source": [
    "### How to Delete Elements from Dictionary"
   ]
  },
  {
   "cell_type": "code",
   "execution_count": 80,
   "id": "3a9903a7",
   "metadata": {},
   "outputs": [],
   "source": [
    "del my_dictionary['salaried']"
   ]
  },
  {
   "cell_type": "code",
   "execution_count": 81,
   "id": "6d09c440",
   "metadata": {},
   "outputs": [
    {
     "data": {
      "text/plain": [
       "{'Name': 'Arnab',\n",
       " 'Age': 32,\n",
       " 'Status': {'Old': 'Single', 'New': 'Committed'},\n",
       " 'hobby': 'youtube search',\n",
       " 'job': 'IT',\n",
       " 'Sex': 'Male',\n",
       " 'height': 1.76,\n",
       " 'weight': 80}"
      ]
     },
     "execution_count": 81,
     "metadata": {},
     "output_type": "execute_result"
    }
   ],
   "source": [
    "my_dictionary"
   ]
  },
  {
   "cell_type": "code",
   "execution_count": 82,
   "id": "47c71223",
   "metadata": {},
   "outputs": [
    {
     "data": {
      "text/plain": [
       "'IT'"
      ]
     },
     "execution_count": 82,
     "metadata": {},
     "output_type": "execute_result"
    }
   ],
   "source": [
    "my_dictionary.pop('job')"
   ]
  },
  {
   "cell_type": "code",
   "execution_count": 83,
   "id": "020f39db",
   "metadata": {},
   "outputs": [
    {
     "data": {
      "text/plain": [
       "{'Name': 'Arnab',\n",
       " 'Age': 32,\n",
       " 'Status': {'Old': 'Single', 'New': 'Committed'},\n",
       " 'hobby': 'youtube search',\n",
       " 'Sex': 'Male',\n",
       " 'height': 1.76,\n",
       " 'weight': 80}"
      ]
     },
     "execution_count": 83,
     "metadata": {},
     "output_type": "execute_result"
    }
   ],
   "source": [
    "my_dictionary"
   ]
  },
  {
   "cell_type": "code",
   "execution_count": 84,
   "id": "49c098ee",
   "metadata": {},
   "outputs": [
    {
     "ename": "KeyError",
     "evalue": "'job'",
     "output_type": "error",
     "traceback": [
      "\u001b[1;31m---------------------------------------------------------------------------\u001b[0m",
      "\u001b[1;31mKeyError\u001b[0m                                  Traceback (most recent call last)",
      "\u001b[1;32m<ipython-input-84-28e618c102ca>\u001b[0m in \u001b[0;36m<module>\u001b[1;34m\u001b[0m\n\u001b[1;32m----> 1\u001b[1;33m \u001b[0mmy_dictionary\u001b[0m\u001b[1;33m.\u001b[0m\u001b[0mpop\u001b[0m\u001b[1;33m(\u001b[0m\u001b[1;34m'job'\u001b[0m\u001b[1;33m)\u001b[0m\u001b[1;33m\u001b[0m\u001b[1;33m\u001b[0m\u001b[0m\n\u001b[0m",
      "\u001b[1;31mKeyError\u001b[0m: 'job'"
     ]
    }
   ],
   "source": [
    "my_dictionary.pop('job')"
   ]
  },
  {
   "cell_type": "code",
   "execution_count": 86,
   "id": "38462254",
   "metadata": {},
   "outputs": [
    {
     "data": {
      "text/plain": [
       "('weight', 80)"
      ]
     },
     "execution_count": 86,
     "metadata": {},
     "output_type": "execute_result"
    }
   ],
   "source": [
    "my_dictionary.popitem() #This does not take any argument"
   ]
  },
  {
   "cell_type": "code",
   "execution_count": 87,
   "id": "edf6a022",
   "metadata": {},
   "outputs": [
    {
     "data": {
      "text/plain": [
       "{'Name': 'Arnab',\n",
       " 'Age': 32,\n",
       " 'Status': {'Old': 'Single', 'New': 'Committed'},\n",
       " 'hobby': 'youtube search',\n",
       " 'Sex': 'Male',\n",
       " 'height': 1.76}"
      ]
     },
     "execution_count": 87,
     "metadata": {},
     "output_type": "execute_result"
    }
   ],
   "source": [
    "my_dictionary"
   ]
  },
  {
   "cell_type": "code",
   "execution_count": 88,
   "id": "9e9a7c37",
   "metadata": {},
   "outputs": [
    {
     "data": {
      "text/plain": [
       "{'height': 1.76, 'weight': 80}"
      ]
     },
     "execution_count": 88,
     "metadata": {},
     "output_type": "execute_result"
    }
   ],
   "source": [
    "my_temp_dictionary"
   ]
  },
  {
   "cell_type": "code",
   "execution_count": 89,
   "id": "27028a62",
   "metadata": {},
   "outputs": [],
   "source": [
    "my_temp_dictionary.clear() # this is true for List, Set and dict "
   ]
  },
  {
   "cell_type": "code",
   "execution_count": 90,
   "id": "9e19d40b",
   "metadata": {},
   "outputs": [
    {
     "data": {
      "text/plain": [
       "{}"
      ]
     },
     "execution_count": 90,
     "metadata": {},
     "output_type": "execute_result"
    }
   ],
   "source": [
    "my_temp_dictionary"
   ]
  },
  {
   "cell_type": "code",
   "execution_count": 91,
   "id": "ba978a43",
   "metadata": {},
   "outputs": [],
   "source": [
    "del my_temp_dictionary # this is true for List, Tuple, Set and dict actually for any object in python"
   ]
  },
  {
   "cell_type": "code",
   "execution_count": 92,
   "id": "f5ae3e29",
   "metadata": {},
   "outputs": [
    {
     "ename": "NameError",
     "evalue": "name 'my_temp_dictionary' is not defined",
     "output_type": "error",
     "traceback": [
      "\u001b[1;31m---------------------------------------------------------------------------\u001b[0m",
      "\u001b[1;31mNameError\u001b[0m                                 Traceback (most recent call last)",
      "\u001b[1;32m<ipython-input-92-76d54c999082>\u001b[0m in \u001b[0;36m<module>\u001b[1;34m\u001b[0m\n\u001b[1;32m----> 1\u001b[1;33m \u001b[0mmy_temp_dictionary\u001b[0m\u001b[1;33m\u001b[0m\u001b[1;33m\u001b[0m\u001b[0m\n\u001b[0m",
      "\u001b[1;31mNameError\u001b[0m: name 'my_temp_dictionary' is not defined"
     ]
    }
   ],
   "source": [
    "my_temp_dictionary"
   ]
  },
  {
   "cell_type": "code",
   "execution_count": 93,
   "id": "a922817d",
   "metadata": {},
   "outputs": [
    {
     "data": {
      "text/plain": [
       "(1, 2, 3, 4, 5, 6, 7, 8, 9)"
      ]
     },
     "execution_count": 93,
     "metadata": {},
     "output_type": "execute_result"
    }
   ],
   "source": [
    "t = tuple(range(1,10))\n",
    "t"
   ]
  },
  {
   "cell_type": "code",
   "execution_count": 94,
   "id": "553d8534",
   "metadata": {},
   "outputs": [
    {
     "ename": "AttributeError",
     "evalue": "'tuple' object has no attribute 'clear'",
     "output_type": "error",
     "traceback": [
      "\u001b[1;31m---------------------------------------------------------------------------\u001b[0m",
      "\u001b[1;31mAttributeError\u001b[0m                            Traceback (most recent call last)",
      "\u001b[1;32m<ipython-input-94-b5c138cd64ad>\u001b[0m in \u001b[0;36m<module>\u001b[1;34m\u001b[0m\n\u001b[1;32m----> 1\u001b[1;33m \u001b[0mt\u001b[0m\u001b[1;33m.\u001b[0m\u001b[0mclear\u001b[0m\u001b[1;33m(\u001b[0m\u001b[1;33m)\u001b[0m\u001b[1;33m\u001b[0m\u001b[1;33m\u001b[0m\u001b[0m\n\u001b[0m",
      "\u001b[1;31mAttributeError\u001b[0m: 'tuple' object has no attribute 'clear'"
     ]
    }
   ],
   "source": [
    "t.clear() # We cannot clear a elements from Tuple as this is immutable"
   ]
  },
  {
   "cell_type": "markdown",
   "id": "49764e4a",
   "metadata": {},
   "source": [
    "# Comprehension"
   ]
  },
  {
   "cell_type": "markdown",
   "id": "a193a30b",
   "metadata": {},
   "source": [
    "easiest and compact way to create a data structure"
   ]
  },
  {
   "cell_type": "markdown",
   "id": "3c1d7628",
   "metadata": {},
   "source": [
    "### List Comprehension"
   ]
  },
  {
   "cell_type": "code",
   "execution_count": 95,
   "id": "075b8783",
   "metadata": {},
   "outputs": [
    {
     "data": {
      "text/plain": [
       "[1, 4, 9, 16, 25, 36, 49, 64, 81, 100]"
      ]
     },
     "execution_count": 95,
     "metadata": {},
     "output_type": "execute_result"
    }
   ],
   "source": [
    "s = [ x*x for x in range(1,11)]\n",
    "s"
   ]
  },
  {
   "cell_type": "code",
   "execution_count": 96,
   "id": "f132ddab",
   "metadata": {},
   "outputs": [
    {
     "data": {
      "text/plain": [
       "[4, 16, 36, 64, 100]"
      ]
     },
     "execution_count": 96,
     "metadata": {},
     "output_type": "execute_result"
    }
   ],
   "source": [
    "m = [x for x in s if x%2==0]\n",
    "m"
   ]
  },
  {
   "cell_type": "markdown",
   "id": "889fe214",
   "metadata": {},
   "source": [
    "### Set Comprehension "
   ]
  },
  {
   "cell_type": "code",
   "execution_count": 97,
   "id": "896492ca",
   "metadata": {},
   "outputs": [
    {
     "data": {
      "text/plain": [
       "{0, 1, 4, 9, 16}"
      ]
     },
     "execution_count": 97,
     "metadata": {},
     "output_type": "execute_result"
    }
   ],
   "source": [
    "s = {x*x for x in range(5)}\n",
    "s"
   ]
  },
  {
   "cell_type": "markdown",
   "id": "6c0c7d47",
   "metadata": {},
   "source": [
    "### Dictionary Comprehension "
   ]
  },
  {
   "cell_type": "code",
   "execution_count": 98,
   "id": "b7c08be3",
   "metadata": {},
   "outputs": [
    {
     "data": {
      "text/plain": [
       "{1: 1, 2: 4, 3: 9, 4: 16, 5: 25}"
      ]
     },
     "execution_count": 98,
     "metadata": {},
     "output_type": "execute_result"
    }
   ],
   "source": [
    "squares={x:x*x for x in range(1,6)}\n",
    "squares"
   ]
  },
  {
   "cell_type": "markdown",
   "id": "fa111c8f",
   "metadata": {},
   "source": [
    "### Tuple Comprehension "
   ]
  },
  {
   "cell_type": "code",
   "execution_count": 99,
   "id": "e6ddc6a2",
   "metadata": {},
   "outputs": [
    {
     "data": {
      "text/plain": [
       "generator"
      ]
     },
     "execution_count": 99,
     "metadata": {},
     "output_type": "execute_result"
    }
   ],
   "source": [
    "t= ( x**2 for x in range(1,6))\n",
    "t\n",
    "type(t)"
   ]
  },
  {
   "cell_type": "markdown",
   "id": "5fa5dea3",
   "metadata": {},
   "source": [
    "Tuple comprehension does not work it creates a generator object"
   ]
  },
  {
   "cell_type": "code",
   "execution_count": 100,
   "id": "20dbe256",
   "metadata": {},
   "outputs": [
    {
     "name": "stdout",
     "output_type": "stream",
     "text": [
      "1\n",
      "4\n",
      "9\n",
      "16\n",
      "25\n"
     ]
    }
   ],
   "source": [
    "for x in t:\n",
    "    print(x)"
   ]
  },
  {
   "cell_type": "code",
   "execution_count": null,
   "id": "b1260460",
   "metadata": {},
   "outputs": [],
   "source": []
  }
 ],
 "metadata": {
  "kernelspec": {
   "display_name": "Python 3",
   "language": "python",
   "name": "python3"
  },
  "language_info": {
   "codemirror_mode": {
    "name": "ipython",
    "version": 3
   },
   "file_extension": ".py",
   "mimetype": "text/x-python",
   "name": "python",
   "nbconvert_exporter": "python",
   "pygments_lexer": "ipython3",
   "version": "3.8.8"
  }
 },
 "nbformat": 4,
 "nbformat_minor": 5
}
